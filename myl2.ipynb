{
 "cells": [
  {
   "cell_type": "code",
   "execution_count": 2,
   "metadata": {},
   "outputs": [],
   "source": [
    "%reload_ext autoreload\n",
    "%autoreload 2\n",
    "%matplotlib inline"
   ]
  },
  {
   "cell_type": "code",
   "execution_count": 6,
   "metadata": {},
   "outputs": [],
   "source": [
    "from fastai.basics import *"
   ]
  },
  {
   "cell_type": "markdown",
   "metadata": {},
   "source": [
    "# Implementing GD (not SGD) on a Linear Regression problem\n",
    "## SGD only means implementing GD in mini-baches\n",
    "We will create some artificial data of the form y = ax + b representing a line  \n",
    "Since we will take many values of x, we will take data in form of a matrix with 2 columns  \n",
    "  \n",
    "First column representing different values of x  \n",
    "Second column containing only 1 since our equation can be represented as y = ax + b(1)\n",
    "  \n",
    "So, we'll be creating 2 matrices one with [different values of x, 1] and other with coefficients [a,b]  "
   ]
  },
  {
   "cell_type": "code",
   "execution_count": 11,
   "metadata": {},
   "outputs": [
    {
     "data": {
      "text/plain": [
       "tensor([[1., 1.],\n",
       "        [1., 1.],\n",
       "        [1., 1.],\n",
       "        [1., 1.],\n",
       "        [1., 1.]])"
      ]
     },
     "execution_count": 11,
     "metadata": {},
     "output_type": "execute_result"
    }
   ],
   "source": [
    "#we're taking 100 values of x\n",
    "n = 100\n",
    "x = torch.ones(n,2)\n",
    "x[:5]"
   ]
  },
  {
   "cell_type": "code",
   "execution_count": 13,
   "metadata": {},
   "outputs": [
    {
     "data": {
      "text/plain": [
       "tensor([[ 0.6063,  1.0000],\n",
       "        [-0.4335,  1.0000],\n",
       "        [ 0.1412,  1.0000],\n",
       "        [ 0.3124,  1.0000],\n",
       "        [ 0.6577,  1.0000]])"
      ]
     },
     "execution_count": 13,
     "metadata": {},
     "output_type": "execute_result"
    }
   ],
   "source": [
    "#now first column conatins random values of uniformly distributed from -1 to 1\n",
    "#the underscore at end of uniform makes the changes inplace, basically it is doing x = x + any_change \n",
    "x[:,0].uniform_(-1.,1)\n",
    "x[:5]"
   ]
  },
  {
   "cell_type": "code",
   "execution_count": 15,
   "metadata": {},
   "outputs": [
    {
     "data": {
      "text/plain": [
       "tensor([3., 2.])"
      ]
     },
     "execution_count": 15,
     "metadata": {},
     "output_type": "execute_result"
    }
   ],
   "source": [
    "#now we choose values of coefficients\n",
    "a = tensor(3.,2)\n",
    "a"
   ]
  },
  {
   "cell_type": "code",
   "execution_count": 16,
   "metadata": {},
   "outputs": [
    {
     "data": {
      "text/plain": [
       "tensor([3.8190, 0.6996, 2.4235, 2.9372, 3.9730])"
      ]
     },
     "execution_count": 16,
     "metadata": {},
     "output_type": "execute_result"
    }
   ],
   "source": [
    "# @ is for matrix multiplication\n",
    "y = x@a\n",
    "y[:5]"
   ]
  },
  {
   "cell_type": "code",
   "execution_count": 17,
   "metadata": {},
   "outputs": [
    {
     "data": {
      "text/plain": [
       "<matplotlib.collections.PathCollection at 0x7fac3b1e7e10>"
      ]
     },
     "execution_count": 17,
     "metadata": {},
     "output_type": "execute_result"
    },
    {
     "data": {
      "image/png": "[encoded data removed]",
      "text/plain": [
       "<Figure size 432x288 with 1 Axes>"
      ]
     },
     "metadata": {
      "needs_background": "light"
     },
     "output_type": "display_data"
    }
   ],
   "source": [
    "#plotting values of y for different values of x\n",
    "plt.scatter(x[:,0],y)"
   ]
  },
  {
   "cell_type": "code",
   "execution_count": 18,
   "metadata": {},
   "outputs": [
    {
     "data": {
      "text/plain": [
       "tensor([4.6981, 1.1694, 2.9360, 2.9531, 4.9071])"
      ]
     },
     "execution_count": 18,
     "metadata": {},
     "output_type": "execute_result"
    }
   ],
   "source": [
    "#In real life we most likely will not obtain such a straight line, so let's add some noise to data\n",
    "#we just add some random numbers to our output y during multiplication of each row\n",
    "y = x@a + torch.rand(n)\n",
    "y[:5]"
   ]
  },
  {
   "cell_type": "code",
   "execution_count": 19,
   "metadata": {},
   "outputs": [
    {
     "data": {
      "text/plain": [
       "<matplotlib.collections.PathCollection at 0x7fac3b2b6f98>"
      ]
     },
     "execution_count": 19,
     "metadata": {},
     "output_type": "execute_result"
    },
    {
     "data": {
      "image/png": "[encoded data removed]",
      "text/plain": [
       "<Figure size 432x288 with 1 Axes>"
      ]
     },
     "metadata": {
      "needs_background": "light"
     },
     "output_type": "display_data"
    }
   ],
   "source": [
    "#plotting values of y for different values of x after adding some noise\n",
    "plt.scatter(x[:,0],y)"
   ]
  },
  {
   "cell_type": "markdown",
   "metadata": {},
   "source": [
    "Now, consider that we were given values of x and corresponding output values y initially and we have to obtain the values of coefficients a & b i.e. tensor 'a'."
   ]
  },
  {
   "cell_type": "markdown",
   "metadata": {},
   "source": [
    "We want to find parameters (weights) 'a' such that you minimize the error between the points and the line x@a. Note that here 'a' is unknown. For a regression problem the most common error function or loss function is the mean squared error."
   ]
  },
  {
   "cell_type": "code",
   "execution_count": 20,
   "metadata": {},
   "outputs": [],
   "source": [
    "def mse(y_hat,y):\n",
    "    return ((y_hat-y)**2).mean()"
   ]
  },
  {
   "cell_type": "code",
   "execution_count": 21,
   "metadata": {},
   "outputs": [
    {
     "data": {
      "text/plain": [
       "tensor([-1.,  1.])"
      ]
     },
     "execution_count": 21,
     "metadata": {},
     "output_type": "execute_result"
    }
   ],
   "source": [
    "#Initially we take any random value for our coefficients sav -1 and 1\n",
    "a = tensor(-1.,1)\n",
    "a"
   ]
  },
  {
   "cell_type": "code",
   "execution_count": 22,
   "metadata": {},
   "outputs": [
    {
     "data": {
      "text/plain": [
       "tensor(8.1129)"
      ]
     },
     "execution_count": 22,
     "metadata": {},
     "output_type": "execute_result"
    }
   ],
   "source": [
    "y_hat = x@a\n",
    "loss = mse(y_hat,y)\n",
    "loss"
   ]
  },
  {
   "cell_type": "code",
   "execution_count": 23,
   "metadata": {},
   "outputs": [
    {
     "data": {
      "text/plain": [
       "<matplotlib.collections.PathCollection at 0x7fac3b109e10>"
      ]
     },
     "execution_count": 23,
     "metadata": {},
     "output_type": "execute_result"
    },
    {
     "data": {
      "image/png": "[encoded data removed]",
      "text/plain": [
       "<Figure size 432x288 with 1 Axes>"
      ]
     },
     "metadata": {
      "needs_background": "light"
     },
     "output_type": "display_data"
    }
   ],
   "source": [
    "#blue points -> actual data\n",
    "#orange points -> predicted data\n",
    "plt.scatter(x[:,0],y)\n",
    "plt.scatter(x[:,0],y_hat)"
   ]
  },
  {
   "cell_type": "code",
   "execution_count": 24,
   "metadata": {},
   "outputs": [
    {
     "data": {
      "text/plain": [
       "Parameter containing:\n",
       "tensor([-1.,  1.], requires_grad=True)"
      ]
     },
     "execution_count": 24,
     "metadata": {},
     "output_type": "execute_result"
    }
   ],
   "source": [
    "#we deine a as parameter for .grad() to work\n",
    "a = nn.Parameter((-1.,1))\n",
    "a"
   ]
  },
  {
   "cell_type": "code",
   "execution_count": 25,
   "metadata": {},
   "outputs": [],
   "source": [
    "def update():\n",
    "    #calculate y_hat and loss each time with updated value of a\n",
    "    y_hat = x@a\n",
    "    loss = mse(y_hat,y)\n",
    "    \n",
    "    #to print loss from time-to-time \n",
    "    if t%10==0:\n",
    "        print(loss)\n",
    "        \n",
    "    #Calculate the gradient. In PyTorch, calculating the gradient is done by using a method called backward.\n",
    "    #Mean squared error was just a simple standard mathematical function. PyTorch keeps track of how it was \n",
    "    #calculated and lets us calculate the derivative. So if you do a mathematical operation on a tensor in \n",
    "    #PyTorch, you can call backward to calculate the derivative and the derivative gets stuck inside an \n",
    "    #attribute called .grad.\n",
    "    loss.backward()\n",
    "    \n",
    "    #Take my coefficients and I'm going to subtract from them my gradient (sub_). There is an underscore \n",
    "    #there because that's going to do it in-place. It's going to actually update those coefficients a to \n",
    "    #subtract the gradients from them. Why do we subtract? Because the gradient tells us if I move the whole \n",
    "    #thing downwards, the loss goes up. If I move the whole thing upwards, the loss goes down. So I want to \n",
    "    #do the opposite of the thing that makes it go up. We want our loss to be small. That's why we subtract.\n",
    "    with torch.no_grad():\n",
    "        a.sub_(lr * a.grad)  #basically it is doing a = a - (lr * a.grad)\n",
    "        \n",
    "        '''\n",
    "        -----> IMPORTANT NOTE <-----\n",
    "        we are concerned only with the sign of gradient value which gives us the direction of jump\n",
    "        \n",
    "        we always move in opposite direction of gradient sign\n",
    "        \n",
    "        the length of jump is determined by lr that we multipy with the gradient, for eg. if grad magnitude is\n",
    "        2 and lr is 1e-3 then would have jumped (±)0.002 from current value of our coeffecient Or if grad \n",
    "        magnitude is 7 and lr is 1e-3 then would have jumped (±)0.007 from current value of our coeffecient.\n",
    "        In both the cases we ultimately jumped at a rate of 1e-3\n",
    "        \n",
    "        so above expression is actually a = a + (lr * (-a.grad))\n",
    "        '''\n",
    "        a.grad.zero_()"
   ]
  },
  {
   "cell_type": "code",
   "execution_count": 26,
   "metadata": {},
   "outputs": [
    {
     "name": "stdout",
     "output_type": "stream",
     "text": [
      "tensor(8.1129, grad_fn=<MeanBackward1>)\n",
      "tensor(1.4542, grad_fn=<MeanBackward1>)\n",
      "tensor(0.3739, grad_fn=<MeanBackward1>)\n",
      "tensor(0.1387, grad_fn=<MeanBackward1>)\n",
      "tensor(0.0866, grad_fn=<MeanBackward1>)\n",
      "tensor(0.0750, grad_fn=<MeanBackward1>)\n",
      "tensor(0.0724, grad_fn=<MeanBackward1>)\n",
      "tensor(0.0719, grad_fn=<MeanBackward1>)\n",
      "tensor(0.0717, grad_fn=<MeanBackward1>)\n",
      "tensor(0.0717, grad_fn=<MeanBackward1>)\n"
     ]
    }
   ],
   "source": [
    "lr = 1e-1\n",
    "for t in range(0,100):\n",
    "    update()"
   ]
  },
  {
   "cell_type": "code",
   "execution_count": 28,
   "metadata": {},
   "outputs": [
    {
     "data": {
      "text/plain": [
       "Parameter containing:\n",
       "tensor([3.0633, 2.5135], requires_grad=True)"
      ]
     },
     "execution_count": 28,
     "metadata": {},
     "output_type": "execute_result"
    }
   ],
   "source": [
    "#predicted a, remember we originally took 'a' as [3,2] before adding noise\n",
    "a"
   ]
  },
  {
   "cell_type": "code",
   "execution_count": 30,
   "metadata": {},
   "outputs": [
    {
     "name": "stdout",
     "output_type": "stream",
     "text": [
      "tensor(0.0717, grad_fn=<MeanBackward1>)\n",
      "tensor(0.0717, grad_fn=<MeanBackward1>)\n",
      "tensor(0.0717, grad_fn=<MeanBackward1>)\n"
     ]
    }
   ],
   "source": [
    "#we continue with more iterations\n",
    "for t in range(0,30):\n",
    "    update()"
   ]
  },
  {
   "cell_type": "code",
   "execution_count": 31,
   "metadata": {},
   "outputs": [
    {
     "data": {
      "text/plain": [
       "Parameter containing:\n",
       "tensor([3.0655, 2.5136], requires_grad=True)"
      ]
     },
     "execution_count": 31,
     "metadata": {},
     "output_type": "execute_result"
    }
   ],
   "source": [
    "a"
   ]
  },
  {
   "cell_type": "code",
   "execution_count": 33,
   "metadata": {},
   "outputs": [
    {
     "data": {
      "text/plain": [
       "<matplotlib.collections.PathCollection at 0x7fac3af84c50>"
      ]
     },
     "execution_count": 33,
     "metadata": {},
     "output_type": "execute_result"
    },
    {
     "data": {
      "image/png": "[encoded data removed]",
      "text/plain": [
       "<Figure size 432x288 with 1 Axes>"
      ]
     },
     "metadata": {
      "needs_background": "light"
     },
     "output_type": "display_data"
    }
   ],
   "source": [
    "y_hat = x@a #y_hat with predicted value of a\n",
    "plt.scatter(x[:,0],y)\n",
    "plt.scatter(x[:,0],y_hat)"
   ]
  },
  {
   "cell_type": "markdown",
   "metadata": {},
   "source": [
    "# Animating the changes in y_hat with each iteration of update()"
   ]
  },
  {
   "cell_type": "code",
   "execution_count": 34,
   "metadata": {},
   "outputs": [],
   "source": [
    "from matplotlib import animation, rc\n",
    "rc('animation', html='html5')"
   ]
  },
  {
   "cell_type": "markdown",
   "metadata": {},
   "source": [
    "You may need to uncomment the following to install the necessary plugin the first time you run this: (after you run following commands, make sure to restart the kernal for this notebook)"
   ]
  },
  {
   "cell_type": "code",
   "execution_count": 35,
   "metadata": {},
   "outputs": [
    {
     "name": "stdout",
     "output_type": "stream",
     "text": [
      "gpg: keybox '/tmp/tmpt5vzxwin/pubring.gpg' created\n",
      "gpg: failed to start the dirmngr '/usr/bin/dirmngr': No such file or directory\n",
      "gpg: connecting dirmngr at '/tmp/tmpt5vzxwin/S.dirmngr' failed: No such file or directory\n",
      "gpg: keyserver receive failed: No dirmngr\n",
      "Ign:1 http://deb.debian.org/debian stretch InRelease\n",
      "Get:2 http://deb.debian.org/debian stretch-updates InRelease [91.0 kB]\n",
      "Get:3 http://deb.debian.org/debian stretch-backports InRelease [91.8 kB]       \n",
      "Hit:4 http://deb.debian.org/debian stretch Release                            \n",
      "Hit:5 http://security.debian.org stretch/updates InRelease                    \n",
      "Hit:6 http://packages.cloud.google.com/apt cloud-sdk-stretch InRelease         \n",
      "Hit:7 http://packages.cloud.google.com/apt google-compute-engine-stretch-stable InRelease\n",
      "Ign:8 http://ppa.launchpad.net/mc3man/trusty-media/ubuntu eoan InRelease       \n",
      "Hit:10 http://packages.cloud.google.com/apt google-cloud-packages-archive-keyring-stretch InRelease\n",
      "Hit:11 https://deb.nodesource.com/node_11.x stretch InRelease                  \n",
      "Hit:12 https://nvidia.github.io/libnvidia-container/debian9/amd64  InRelease\n",
      "Hit:9 https://packages.cloud.google.com/apt kubernetes-xenial InRelease\n",
      "Get:13 http://deb.debian.org/debian stretch-backports/main Sources.diff/Index [27.8 kB]\n",
      "Hit:14 https://nvidia.github.io/nvidia-container-runtime/debian9/amd64  InRelease\n",
      "Get:15 http://deb.debian.org/debian stretch-backports/main amd64 Packages.diff/Index [27.8 kB]\n",
      "Get:16 http://deb.debian.org/debian stretch-backports/main Sources 2019-06-10-2018.07.pdiff [66 B]\n",
      "Hit:17 https://download.docker.com/linux/debian stretch InRelease             \n",
      "Get:16 http://deb.debian.org/debian stretch-backports/main Sources 2019-06-10-2018.07.pdiff [66 B]\n",
      "Get:18 http://deb.debian.org/debian stretch-backports/main amd64 Packages 2019-06-10-2018.07.pdiff [2,847 B]\n",
      "Get:18 http://deb.debian.org/debian stretch-backports/main amd64 Packages 2019-06-10-2018.07.pdiff [2,847 B]\n",
      "Ign:19 http://ppa.launchpad.net/mc3man/trusty-media/ubuntu eoan Release        \n",
      "Hit:20 https://nvidia.github.io/nvidia-docker/debian9/amd64  InRelease         \n",
      "Ign:22 http://ppa.launchpad.net/mc3man/trusty-media/ubuntu eoan/main amd64 Packages\n",
      "Ign:23 http://ppa.launchpad.net/mc3man/trusty-media/ubuntu eoan/main all Packages\n",
      "Ign:24 http://ppa.launchpad.net/mc3man/trusty-media/ubuntu eoan/main Translation-en_US\n",
      "Ign:25 http://ppa.launchpad.net/mc3man/trusty-media/ubuntu eoan/main Translation-en\n",
      "Ign:22 http://ppa.launchpad.net/mc3man/trusty-media/ubuntu eoan/main amd64 Packages\n",
      "Ign:23 http://ppa.launchpad.net/mc3man/trusty-media/ubuntu eoan/main all Packages\n",
      "Ign:24 http://ppa.launchpad.net/mc3man/trusty-media/ubuntu eoan/main Translation-en_US\n",
      "Ign:25 http://ppa.launchpad.net/mc3man/trusty-media/ubuntu eoan/main Translation-en\n",
      "Ign:22 http://ppa.launchpad.net/mc3man/trusty-media/ubuntu eoan/main amd64 Packages\n",
      "Ign:23 http://ppa.launchpad.net/mc3man/trusty-media/ubuntu eoan/main all Packages\n",
      "Ign:24 http://ppa.launchpad.net/mc3man/trusty-media/ubuntu eoan/main Translation-en_US\n",
      "Ign:25 http://ppa.launchpad.net/mc3man/trusty-media/ubuntu eoan/main Translation-en\n",
      "Ign:22 http://ppa.launchpad.net/mc3man/trusty-media/ubuntu eoan/main amd64 Packages\n",
      "Ign:23 http://ppa.launchpad.net/mc3man/trusty-media/ubuntu eoan/main all Packages\n",
      "Ign:24 http://ppa.launchpad.net/mc3man/trusty-media/ubuntu eoan/main Translation-en_US\n",
      "Ign:25 http://ppa.launchpad.net/mc3man/trusty-media/ubuntu eoan/main Translation-en\n",
      "Ign:22 http://ppa.launchpad.net/mc3man/trusty-media/ubuntu eoan/main amd64 Packages\n",
      "Ign:23 http://ppa.launchpad.net/mc3man/trusty-media/ubuntu eoan/main all Packages\n",
      "Ign:24 http://ppa.launchpad.net/mc3man/trusty-media/ubuntu eoan/main Translation-en_US\n",
      "Ign:25 http://ppa.launchpad.net/mc3man/trusty-media/ubuntu eoan/main Translation-en\n",
      "Err:22 http://ppa.launchpad.net/mc3man/trusty-media/ubuntu eoan/main amd64 Packages\n",
      "  404  Not Found\n",
      "Ign:23 http://ppa.launchpad.net/mc3man/trusty-media/ubuntu eoan/main all Packages\n",
      "Ign:24 http://ppa.launchpad.net/mc3man/trusty-media/ubuntu eoan/main Translation-en_US\n",
      "Ign:25 http://ppa.launchpad.net/mc3man/trusty-media/ubuntu eoan/main Translation-en\n",
      "Fetched 241 kB in 6s (35.2 kB/s)                                               \n",
      "Reading package lists... Done\n",
      "W: The repository 'http://ppa.launchpad.net/mc3man/trusty-media/ubuntu eoan Release' does not have a Release file.\n",
      "N: Data from such a repository can't be authenticated and is therefore potentially dangerous to use.\n",
      "N: See apt-secure(8) manpage for repository creation and user configuration details.\n",
      "E: Failed to fetch http://ppa.launchpad.net/mc3man/trusty-media/ubuntu/dists/eoan/main/binary-amd64/Packages  404  Not Found\n",
      "E: Some index files failed to download. They have been ignored, or old ones used instead.\n",
      "Reading package lists... Done\n",
      "Building dependency tree       \n",
      "Reading state information... Done\n",
      "ffmpeg is already the newest version (7:3.2.14-1~deb9u1).\n",
      "0 upgraded, 0 newly installed, 0 to remove and 32 not upgraded.\n",
      "Reading package lists... Done\n",
      "Building dependency tree       \n",
      "Reading state information... Done\n",
      "frei0r-plugins is already the newest version (1.5.0-1).\n",
      "0 upgraded, 0 newly installed, 0 to remove and 32 not upgraded.\n"
     ]
    }
   ],
   "source": [
    "# ! sudo add-apt-repository -y ppa:mc3man/trusty-media  \n",
    "# ! sudo apt-get update -y \n",
    "# ! sudo apt-get install -y ffmpeg  \n",
    "# ! sudo apt-get install -y frei0r-plugins"
   ]
  },
  {
   "cell_type": "code",
   "execution_count": 36,
   "metadata": {},
   "outputs": [
    {
     "data": {
      "text/html": [
       "<video width=\"432\" height=\"288\" controls autoplay loop>\n",
       "  <source type=\"video/mp4\" src=\"data:video/mp4;base64,AAAAHGZ0eXBNNFYgAAACAGlzb21pc28yYXZjMQAAAAhmcmVlAACl6G1kYXQAAAKuBgX//6rcRem9\n",
       "5tlIt5Ys2CDZI+7veDI2NCAtIGNvcmUgMTQ4IHIyNzQ4IDk3ZWFlZjIgLSBILjI2NC9NUEVHLTQg\n",
       "QVZDIGNvZGVjIC0gQ29weWxlZnQgMjAwMy0yMDE2IC0gaHR0cDovL3d3dy52aWRlb2xhbi5vcmcv\n",
       "eDI2NC5odG1sIC0gb3B0aW9uczogY2FiYWM9MSByZWY9MyBkZWJsb2NrPTE6MDowIGFuYWx5c2U9\n",
       "MHgzOjB4MTEzIG1lPWhleCBzdWJtZT03IHBzeT0xIHBzeV9yZD0xLjAwOjAuMDAgbWl4ZWRfcmVm\n",
       "PTEgbWVfcmFuZ2U9MTYgY2hyb21hX21lPTEgdHJlbGxpcz0xIDh4OGRjdD0xIGNxbT0wIGRlYWR6\n",
       "b25lPTIxLDExIGZhc3RfcHNraXA9MSBjaHJvbWFfcXBfb2Zmc2V0PS0yIHRocmVhZHM9OSBsb29r\n",
       "YWhlYWRfdGhyZWFkcz0xIHNsaWNlZF90aHJlYWRzPTAgbnI9MCBkZWNpbWF0ZT0xIGludGVybGFj\n",
       "ZWQ9MCBibHVyYXlfY29tcGF0PTAgY29uc3RyYWluZWRfaW50cmE9MCBiZnJhbWVzPTMgYl9weXJh\n",
       "bWlkPTIgYl9hZGFwdD0xIGJfYmlhcz0wIGRpcmVjdD0xIHdlaWdodGI9MSBvcGVuX2dvcD0wIHdl\n",
       "aWdodHA9MiBrZXlpbnQ9MjUwIGtleWludF9taW49MjUgc2NlbmVjdXQ9NDAgaW50cmFfcmVmcmVz\n",
       "aD0wIHJjX2xvb2thaGVhZD00MCByYz1jcmYgbWJ0cmVlPTEgY3JmPTIzLjAgcWNvbXA9MC42MCBx\n",
       "cG1pbj0wIHFwbWF4PTY5IHFwc3RlcD00IGlwX3JhdGlvPTEuNDAgYXE9MToxLjAwAIAAABmmZYiE\n",
       "ACv//vZzfAprRzOVLgV292aj5dCS5fsQYPrQAAADAAGq07IMpSasR30AADnYL5DCdf8AExfYWqKE\n",
       "L1vhfbOSsgYhdK2aO0b5KbjLgWnFto6FOnE+i5hZGW55+o4HCfTW700yerfRPm/ifGETs3Q6o8Cs\n",
       "lIU1zd2zKhnE454bWauztWtClVaF8PWAO6xm1o/ZHl+lmqTJxpyxV7lS4tfE+BEITQrlDMW9CA66\n",
       "9mEeoxo0du+Rox7sUC8R+fy4RJmPsy1QdqKsl7u7Wrtc2OK2PqWVuzAcuWck3yVT7afF6MXnKve0\n",
       "7+Kzu3Kq5RrhBZAkue/DzabAzO3SIG2xT/PQSGwvemfCr5VjY68BOGypZBfgiFCcNqQIeJ7HhO8P\n",
       "Y9D6KJ3drLJVfKBt/PArcU49w59IXopHzvJg4j3RuFKDCLsoKPDlMinazSkv/AbNM/TtII5h5EAg\n",
       "bid6+qW6xV//iGJf+ZhiptJv5HYFiokB04oP2L34ZWfUI/OQFpoWqyb96B5Ope48GH6jT//eCTJV\n",
       "q91yGg9s9cHOzsUZ1gurAViBAVXFemdeOfKyetUZ0iDPxK5Kr7qu8i74XoiH3ODfVJlnZJvN8vtQ\n",
       "GXYgvkrXXxh4dJpziuFFtA8fCIZ2O5aqFI49Eqr39BBmDkFXuCsKre7HmjUMn2ZvEoR7Zm25+4Oc\n",
       "BiD73xq8QGrRMNKhvdzt3yGuMVZ2CHFIx1bqf82+7PwNK6Pb0UnFFlkwRoLXWIku2r0a1MHicrRY\n",
       "Ivps8Hp73OFRVr8GEZFzsGhl9me9G1Z1l2HV/60T8Busd++/5Qov6Erc5MPrLhnZjC6aStr7wqMo\n",
       "kqmOmLAixwWMjLAWOTIYGIa4qqqyT5vl29zwANXSxZN4wooyK2RWSI/8R6DlMhS52bIaDyoRtlbF\n",
       "zIoC/hO2mejA2nObZqI4NmKI7leNJV2EWQlgCWn7kb5pqqfzRK8ko6Q74eTyWOJ/tZgSuTJ4RF8T\n",
       "G4kLyq0FS2Wx4Av77dxauitxVJI1KgREPFjA5sPV5q0zC/yCmLZHS1PqUip2ByYRSbiIPP9OdDqR\n",
       "8VvB4umniIHgM0t4XuqVFSt1IucGd0m09X0ELm05e0FciQKEFBhUd/UytSJl7i7XxXp0kitmWvgS\n",
       "WNTz193Bh8GMGDvQcqMObHUpiUNYxwFFnks8hQWKkohVVxfyuKemczBy0syO82g8j+qzZSuZkLAV\n",
       "ohG3OVrC7//XNLn0AL+2ab8/Caapb63pfNjJMqhSokAjevZbIKHZmHPhbNZNm2WV7F4Ahbt2hkK0\n",
       "d67qmOpvnxzYaRCf2UeEolBkmxPV7U6nTP/RNk3wW5+FEmXNUJJzT1wCbVJUGyyl5+1l0xtEBDBM\n",
       "iGCiK+xMxU9/AWcXoPk2cJIeZ4oITGcNqE1SGtfWRnO2bztcbeKdYpd8yztgDK5d3EfMQYaxBYeR\n",
       "o2TqjzA6dzyzzWy7YNWL7Uto7tdFYOBSorwttWC9mmzgHdtnvA2nrUiCtu1RNYIYmCiGwiWwI0UE\n",
       "c1qbPjTAYir2yzpknMzlbu8wVT5kM9pBoRsKQbpm9bnYUNnJcj4ofYUBvetoZXTsXbsg8Kpvfjli\n",
       "iGcjL9DRwPl3ZQdbVET1Kb1GOvTJcuHdZ2GQVSbs3xVbJfX6YCj6rOvUcvHpmTOLQbTzqJvHqZCQ\n",
       "cI9Zm3nHuakYnF5b7KhC58eXSCssyMxGnNXUUuhPELFHd9D8vFj2+auEiUY2y6DLYwIYBvM5hmMp\n",
       "/G0St07Qn7DQ2gCRqePhCG0BkLgNZfaUV9tDeTD/C76GXmCnkG17owSIE/1MOpbCh13eYqm5nuGD\n",
       "BLbQWw7c+Mon1vz5rDBoYjdsDbuTQaNmxbxuvVUH+6C1BivyJA0rStPTB3itIqIoMQCoaomfH6F/\n",
       "RaV/Uzqf4fw+RJ2KDNx6MqIASqBElDUAOmYMtDtWObm8cPCfoJIQNZSHgHXVZzGp3ffA7joIZcof\n",
       "DnFhJXerxvpkAi/5H4NTlK8VfxUvHOvrOCsB1bpSefppBcO/dycV4QeGO7QuL1VmAZ0knDx85PiK\n",
       "InhyC2GLGucetnIANayL70M56uIcdW17i0agdNG8KGi6M2TRIENQnxpGdOkHzZTVVWVwmMtnCowd\n",
       "Y45CkDOSNzXpPFqMUs5Qpgp35M8avSx7EKjD+z2lMr6dweVEsXMgXbrM+R8jLvHDBmcEvfQVy49T\n",
       "TfkW/jNietB1dOYK64eP+2dfrQZayhB20S4ohZnmKXXJK36m5ih/imtFZ7ZKYZJ1aleVtzmF5TSo\n",
       "iE/7sH//SvuWiedqaFGFOwdUXwCUFWVg9EsmQr1W8TbYJi/c1UtNAGC+4abFTbsNbUsGtQQQeQ5g\n",
       "UbVfafc8N7KFYWF7IJeekYaB1bcNqiabFf4V2lAVJvvGotIu0fnhuqwaBe+pVeJ70UGXnQO9dOAl\n",
       "Ffc0Uzh0tDf97jr4wQBSwWVyvsZHFudKBUGKWx7KZQNJFj8U7jDjAd9giIxrFcEal6LLxTL/GkrP\n",
       "t/uC84qWZSfcgdSgMlx5UgMDJt9i5Ptfh+RA8V8+c/lJRDw5BG2Z1eE7oFoqHpxsSiUMSRudvgPb\n",
       "0sysZFa2BEeWt3YgSDT2KyUTQO681mI/M+y31Yze61k/TkWAknnFtO/9EBc2+YBbWpedIaS/IQGL\n",
       "Un081rYOtOUIeiNyUyuy8XzucRHEstDT6SGAjmF88I7uQbdJeqNAXrTs+FOA2Eln64zCFzFOPN5U\n",
       "nopv7gKFJW28c4kqOWwQU+68DCPAIR6/LmhnqKj/97GaotV2Eh8EjaUYAWe7IKMlo35DEfJp8+mp\n",
       "f9lnXvRNfEAYif9cwBN8SAxCixv/WIeysRJv1fG0UvBlFQBYQTB52+W30LxhGc2SeiSTTjqYGqlN\n",
       "8dXBSaIFrQTsPxwPV0lp2I9qXIDSoMLEaKs+x3GVelGVaXuGZO8GFSHMUFm+N2syVQ9RgshNVGZj\n",
       "PWZYB7JlQkX05jFlP7x+Jdkmwozcfz5MLXnnOaak1NB8sYzB89ZHztSkiO9Ez+RGGZ02obGo+Q8A\n",
       "WLJadWuBGq3kJ9qJSqNy9WgpdVqldX4n7B6/1/nQwjz5StB+ThhwvDzJghMWrvt62zUUMLX3tLCZ\n",
       "y/wWoJSSwElI8JjPRj3aUjnMpyjo3FDYmfuv8nTJTdzdsflEbRDPEU9LzwwboOM97N/tLhXm3fs3\n",
       "xFZ7OiRLgrk1WL6DD+prest4tO1PLNudS6KcUfmr6ZWBAPZDRnRAs4Ck6tu9KM1yfjgzkrUzxBhn\n",
       "tMDyFdyDZrX0SxtK+/xEurUNI3GYsI/9ypZ5tH9p3oAcLEkWPsa5W3l37/PtyIcaZRJZNt4cKjdm\n",
       "w+6A8LABBxzRZY7yh8+4Dm1Q4ue9OjZO0RJDMB7ktJa7rSdvy2V4U+DcBT/fc5XhWxob/hR4w6Ah\n",
       "acIVtqgEcqkFr1f7RYtyK+Zfe7eXpZlYzV12JZOXdHPqhTMpOmUxaEJkzSStSq5eJA8Rmi9Txqdw\n",
       "mrtq42JbzAt1PaJvWb2AvUCVE9JGHqGFMMHKxwRg/tTjlVK+mfhmTgWNij0ihlwHIUu7+T1kyuOi\n",
       "qv+N3rBnRhEQafjeeHozS8kUaPQdGmmPbhhZ4hWHfgOxHtanK8cwpTbv8JTWz8SqOLK7DYncSw+j\n",
       "hUunBBY8i0wjANqzTHK/Aep5IhJLi+1C1qyHATAbmfev8Z0V8BvQOEJhRvas+C8jd/owWR9pmmqj\n",
       "bkEcjGSNk3V4ws7Vocg9yiyeIMAMk2v6fyQcFpZZ/cUUT561qjwj6nvdxHp7avEb5miko1L1ADOM\n",
       "GCTIoeVjWhcwCtuIZX9pRGYVmSI/gTGUk/9KzK1kcKpDZk3aWg5Al1PdH9+m3SmLMaVchv4jQtM5\n",
       "3VX/tqSb71u2nidKHft2oaZM2fqfFhsOipLngoSXAMqmEt2BiR+Q8FHCzttndZvr/ChCrLwQaCVa\n",
       "WtMsrLwQh3kqXuqcbLEFOsdUQP5oHGtCVHI3+g2n8MSFYwVd/QZZ8O5qXdUXwv/laj8ZSsihVsFS\n",
       "hd9Y0jFfFliNfjN+zSrTZLactqwRcRRPyioxkFQsDIng+u0c/9VpjfF7LeKNRwow9YdTHNHMFMu9\n",
       "0WgHtbZSo2LkS1O0PuIsIpdVFtlg1TzTAqyguN57si45b4YOSqthXPzeb6Q/759Arfs7G1BxPdPu\n",
       "BRrZqYHsYubLrIrhH6Dr7HcuVUuG4ZLYZNjgQhUUDPcK4YG1gACBduLryGc1zHVNbxWlcLVsGacK\n",
       "cRBf18DszsVQeOxjfjqGb/P0x1SSiB1JY/S77R363QZ5lIlGbn7fSgPeNIzsLO34ER5ynvmZku0k\n",
       "E3iPj4/7DjFM4jnRA/WiTkj99qClADjI7xXv1LW533O/u10PBnsKgx3FAPDzpqS9/vstn7XrL4+S\n",
       "UNOrbI8vYSGqDRTnx9CdSWZ9CFUgAds0LtUqxO+Zd93ek9TxnuaLAUNOtj1JxRBPPhqrcQYuGCUp\n",
       "EH+ggOCslfzQn1MVUPZvwXElmwkVM59f/7F/xcsIRgYmoSGR0f4oYF/Cs0zcuK0T7VacxWdQ4Vmt\n",
       "iKU/krkEHNqnX38puZIPGT+09SU6N3RQoJ8aeO/QS4zFgK8za7JTZqD/uwHO9x62ya+c9axL0Pes\n",
       "AW1K7uVg7kJcDuJLaemPA+YvAvBDF01AIxoWnwTJqbHq51mIPyAJXXlQdUPiHcjyN9bojMUNZ+rL\n",
       "Vf+jWlA7cvHwhtVEcsZ9EyteQAiD3YHbSS0yI9BQ0kgU+/efCbjkDaZxqPAP/WPVlyZiw/q1itwC\n",
       "GmfKhYlSM76+/lsRF3jms440r+s/sZ5WjI5xglKRF4d3z5ftJkEVHeeclAOvCg6B0twM0dh4k3/K\n",
       "IfKVmj2/1Ei6/WVnWI0qE48hOJw2ybD8ahCYRA6tELlG56kSKUNPyWluKuRetjh+LB4MUCK2NmDT\n",
       "Vfa2HAKUPtdLREFz99DDyq8xSUCvzQFiKQ2S1+dCSd8QHl1Oym4IBVaEqYTuQhXshj3bVSZ1+Hhk\n",
       "7dahgd1fzbbebkb+9nhmpXXqwUTNgxrMcOkP/wtBvvn9rANK2IHhFpWTGgZ2HW1Or0l42E5umbqf\n",
       "WsA1Xc+/B6Dp/A9pv4wpUKHayBpJ1du5jTsgYFnrFLxfsw1OXs6Gb0EesKrVfttdrNfZlDTzVpG4\n",
       "9Xt1kTAJJ2f6IweyJddkQVbAz7hV3XqvYpypef4QPbWb3sy+hf3agJ2bAXh3B81TsUAFM9b+35lq\n",
       "2Vy5QlOtIZA+A0BNKhZpkkZdpFSgwEbVC78lNbw3oQ9Bnx8cF8gelizW/RibUuHNyM8eh+0qF50t\n",
       "N61hEhhi74om/K9qu4Q9VERpYreC87MpGUamqQJBlDcjO2SDhoU2mFZTOl9LXtScXeFugEctI0Q2\n",
       "kt4NutT3UTg4DhxHHeX6C72T1Eg8QD59I4RiDbQpS0SBAqZYRLHJzs5Ve6S6yMOzBvWykAzwgsUX\n",
       "8zjbZqblQGTanJOh5psksb5ctQLK5S8h9TI0gAAAFPNjxJIfyDZx5h7BTLEXYh5gY5PA4JIUl4lE\n",
       "FlyoyUUeMNoEBWNSBk15vByB0hIFw77UuNj0SYrL+8q553igCAgLWRMVRWeFMblOej5nHUvZAH8J\n",
       "HPRyJucKvWEBy17eluak2c13efxdb0IeMQiE3SunLBnRXOThRnP6JY3jpLhCXE/pTWW4bbft0mg7\n",
       "UYh7GSuRGOMJUHSpLuZ2fIuDAV0845v1pgo5sN5tEkt/ttAZaC/dBvh1wHDgaJRTjc7ZngSOBsbe\n",
       "bDdsMMHRxkNbLISF5fXv3ARlxZr76vYcHhn420F3gUfmoimWpDrBGN1AAzlWFPtnPsnxdG60qn7w\n",
       "R6p/NF3H9R4Ea4X5PU6Sy6y5df7QyeWsZyiFjbqK36uStLnW9NVEz8fLe85gX+CIOX+emK1FsnOY\n",
       "Z3JTuN0ryflcKfQvXsD24dRmQs1mKeP+Mgn2u6RvStZuzFBBB5sX5MV/Tstrwk9hMbm43vZ/0/0p\n",
       "QXl9OCuiThD5A69Ykr8fzJ6CYf0fuNCH2b3omIAAACR62atbqsMWv7CFO2mG/iw0PvZwWtHToJ6h\n",
       "7OkPDBv66gjHlh/7ki5KYp2lLjVCE2wzEd+29sdxIVR7Zuz65kGKi5xjeFLcBGhyFCFg65Rhs9ik\n",
       "bMkHq4p9bUZw0VSyi3m1KOUq7IVudZdnVFMruMMzz5Fs7wgsCiMhXv90d51TD7osCCQlqKSMD4+s\n",
       "FjZ57COnY2Hp4HFEFHK0SpAL5L4Z35SwrmK1SD5zqNu2EhAnLpTTq5W5CY/WwwWmqJrCQK8XtWDv\n",
       "Gm2xceho6lNCFJ1LdR4JakAIP6nb/qlUremksAI6sbaGGY5jr15+B0rxk0K3hwoLKB1kWV4SBUHw\n",
       "RO+ALGgJ1aKaldZtvguEkvBdM4I52DXEWig+9CKokBXCwyE5nZv9y7b7gmbjSjhx2P0EQaOvYXyl\n",
       "hw6YAyT4F4KhsLNtwY73e6Gj3XLw3t67Mm9BpzZWQqMn9EBkzuPBTctUM9uQYGKyAY9gUjHBMjpu\n",
       "e9DCcawmbSFVAbutpYAT2MG00F2dPU38kRE6wR7z0hdjiFWXJUzFP033GIn9spjp3/A4UmAMpYKN\n",
       "ko+aEnVunLlNpwKt3yrqXJLQRLF7ww69bm9lboVpyAuOYUqrcU+Yr2aWZBjxFv6weT3Lt7j75csF\n",
       "73zxU0b9NzTcfbt0OC3EtnvZNo2e1jpsosapmNFUiwc04Hp8Gbd/WuZe+Fi3sHcLJGXrP1jkUYZm\n",
       "SAYjIAgN6+3QQkEY1TbTMmk0+Xr2aVInknPruTyjpPvv0N2+7T536AqMVu6n9R9f9nK+ed9JmnKI\n",
       "2QVIYQqjEyUbLJaEA+ZjXrCqZGCP9QX0RU73PCbsYmQA6dPvXI31/Rc7+bsC9jOb9y4d6yuYqox/\n",
       "H/+9Lhm1//HjHFI48F+FR9DRfIP7L51JX7QDfhN8rhKkpiX/8huyafuBs9vZgAfLZJi7+qL1YtQk\n",
       "hChZ6I5tg3NOosFmFuuYWy7wORHA2Z4GpJ60C5dUrfastXMSNZd1wxl6jxY/DqV+BTygk8BxqyF6\n",
       "Xgitq6TAJbtmkddkUN6Z1q+ECoMCiP9B8bWhaffrFrONMyKMiL87q9NjKq9pp0QhQYEq0j+Nqjyo\n",
       "3xsmVctGdUV2hZxDq9gGJADgI6oc83NMGt4AyuOciN4DTuOUAy/4rlL41oIbZ29obfrl6tAYol7o\n",
       "A6GubXwJtuvu3/U2jCvtY/cO/QUSxC6efhUIRG7bh+Yys7zcLIR+b1XgRe0nsnfG7dd5ZmWy712x\n",
       "CeBEKUXciI+UhiIgkHnVOlXP6mpJpZam8UIoNqtp6ai80x/R/zDuFSND1yKLElqozmeLAHmIAe1V\n",
       "WR1CQYrcRKm2lWtrGPVbuFkl+aKNrxafgF62gILJC9YjUzEHbKEl/eYpYUeV82k1xiH9da5zrjOg\n",
       "2iZSkKMkwICD9OOH+p0JPbDhEnQpGHiEtZ9/POno2FceC/V0cQN2G1eqvdXxEFTMHfoIgLJt6010\n",
       "TTdtSgDFPF/u7+8NQud3eOE8DjAsGmXVxt75yaaJaDegIdmmeyAcZ8lfqMV2YmFYDq/xtYS4DN4R\n",
       "qhxoRR914W3b/OeGyds+SsMInfxQa63i40HpLMmqkFkxiSU+fgHU+LPqxQIwmhnR0SrnivjjuKO4\n",
       "qdx4/S5AIRqW0CBGg8qKG+7gVJSw746latYsuR60rp7G0ZN2dQXTjEEioS1A/KvRxyZ+Os8H0kh3\n",
       "Ob+8HaDFZ1PXfeozR1EmHvdLp79p71nTE+XargMJx95qQ8HH427cx2c55aqkOi62hQG38KwkedQB\n",
       "26YoNqmXqg9DZv9VxvQeoPY/rfPuKqjbC09r+Z9kVRhvxg02SMYUpwQ6sASmIth5DxKytj/Ht2vi\n",
       "rUMoqISR744pXA+s4J9xKiw74UtDoRnKtY/Foh3xNTU/ipVkuzBAm5pWcDUeeMAPlNacN70/uICn\n",
       "3uPqgXwd0291PuWjcgxSB0XI14iokw5pV/3a92URNHxQA8SxoBEbbhdXKnO5hbcyJc10GI+4x9Jf\n",
       "2iXJdg/9cTHzUWdhWv4W6uWjQiFXy0J+/HOtReaiOTwwmciw1BdW2q68sdrKMDeHKkFKi/7cc7+w\n",
       "QoqlOeJEMuXW4+U7czFYhrcJ2iSZcPYDGIHBEHsw1+F+uZABfd3ckOK4uNANWuqYSkgryWWKZcnf\n",
       "kpdCH5xHdZ+TcJSfWygMEUrDH4k5xGnvrQ+zJcGI6Bi7s9dYyLiBMxVtxL3xznKw0wkSPR7qOhr9\n",
       "Pre65dRKX6AN8wV9V4leUS44YovYsPiB4s3J/ki20G6OboZfQ7Vjmg5tKt8axoNezBpWNWu3/XCr\n",
       "1CH5+bPu8YIzir2ognQlvbDXtzA9l3xNdwRBy9/sH4/GSMp2wgfYXmj4XsHVL0uQq2WwjouQsvtx\n",
       "yXSb3sps2k4fVo4tqqQAyyL1GmU1o4BRhcVAb0mD7jCyFxjlmY6JdtFDrc7frhIVf+mLpa1cXgge\n",
       "6E9S0cdOF6dSw/ryaPQe9zUo/AIN4UkgN/TBU9lM2YYgPP0LMbeOU62gQpxEroZpyztNp93MABLd\n",
       "9aJUptlxBF3G40ImMtqii+vmExX2UPv6aHxt5gHtkucgPWMZ8YGN1ubNZfnIV2xGKjOafTek3xlE\n",
       "RCg9JJj12/lvEqXqWeTXnRMoDYYbjGl3Udh5AQnAoCh0xqNr2kaDPxkS3iQlgE59b4d5f14ADJ80\n",
       "ANEruXZHQ6EAAAMJQZohbEK//jhAcfBDic59gqDq89a8KNlmQEEacDOstkwb6ShWST4Gy3mb3Mky\n",
       "sbhwdhu+cTk0knFqZ/5Cttk8Xt6wlPfDLoWKsn7lHOQvK8DzwBbXIT+mWEYQhfRjkWogdEr0aTph\n",
       "4pAaJ37dng7fyAxjd7VOiFddv/BUP8rMF504gn/PqXSr6MjxGlCeSpJpuQoRLooi6SzYTripZD7t\n",
       "PdxTTHwgOSQwIOr5g9d6XkrG1ybsHmJ/guao/FxsxIdl3CxjtyO1SRBFy7jL8uVb0TvEuehlax/H\n",
       "rNyNpKasS1FVOicvvO+bf3t2muZYPRH4xhqsVIWsPAH5et98FbUVDVrJVnDV7R56svmOYycpCoTT\n",
       "lrLpwlgrxTcm8+TEpqBdpCXOF9E/K+nV/vnRvFRdZuwSWatJEYKkBewk4vPZ2z3B3dAT95yDl8A5\n",
       "Yv8AWXUaenkTPHhCmOiLr+mi7NRP2jaEhuCGbdkpiGkurMhXNyw8gACa2v8lK8FDYEcNS4HcUTQy\n",
       "CucRGTYFojddqYZjRdKo7si7XBOUWHNpq6Cn+dqzHOZ7mcldKiRdZ5BE7Y6IQAW4W1kIsqFr2ZWr\n",
       "aosHstLGnXAYbSlZOvr8Vl7zSGLub32VOjQYsMcMANSsXp4f5KBXTNp8pU70E0i6FokxjqcnBB+8\n",
       "BtgokTa/M3HdeggiPdnvtgA0tVjhmtc2hIGcKkiHVhzYlDGLld1MgUwtGX73l94bC1lsvn2xBECe\n",
       "YxTu6TsOl8eo63I/6x5Qua/rEHiEHKCSone/PshaTNequL6YaQ9p1VP+Je2rsLtAGeE5sxh0G4ru\n",
       "y/pCBxljTaJ4xZVrEDOfENUU3aYc/F584gDDN614g+Cu4DRyIvy2LKZs/dbzRB70NHjtx+HXvszM\n",
       "YCo9+q1ACIlV3SqNsv9Q9ZjqM9xOJZIRc/86MUZ9B/CjqC1ZMddp1ZlyHMAPNWUTHKH5lq0w6/JK\n",
       "IpKMGF+excQ/dG+epaXfTMuPplc3mxQh/aGBF2t6JIfUUAHiJHFWO09a7vjhjJ10AAACa0GaQjwh\n",
       "kymEK//+OEGdqRXmroagA1cNdNpqVdfbtzcRdW2ASlXjaH7Q4WDA62cK5dndZKhTNV2M0I3r3MN6\n",
       "TnCBBB6Gbzo03OdUA5QpYXBvWxFFXTSqSqhmFLuU/6YwfnOiUguKMBg4KIs+wcY0N83tKkL375Ww\n",
       "Fx5YvZQcY/O8gMr/psz3xnZNITd/XnwdujufM7pJnIK/5xRLfG9P/N6AiGiMOBpUQVuGJxoBf06A\n",
       "d/wX9NzQssaK/IeLBljCWOqVMG5u/UshTs1Dow5mDF228wzwuBQzXV8Dd3ficdYJJbGrSUMhGuxS\n",
       "U5/ksgik2R/mxDd7asrbQzQm08NgyfUzPYtZ1YbX79rGPBKSrfMYrC5w6g+YEI7VANeHUwRtzzit\n",
       "hJ+1CotxiOuLQseQFCHMDeOhRvMtsQU7YUsssskZScfMGwQVXp+JOnAuFIl0IWcRnuSH4jdjRxp/\n",
       "b8ggGNtn9gn2VIdEk0GWGQlXMXI7qL6JZS54m5gPV3hhWjKXGhzs/+R5EU+jPUEvot3VoVkYqQTk\n",
       "tgupO+SGOBidmPxU1ojE9KqLBiKncegAaZUl1zlE7EUNcWUd8xfrdlqsk7jSNgTV9d/nTbkqrxKW\n",
       "CuVOVOAxs+FxeIur/jXMh7hH7Sd5Eb5m+P6soYYqUf2NE7qwdgwkitHp9oHAd5SDs6iZdeJAqZay\n",
       "fMu0wgZmvOcVAK4tsgrZ4ja2R9dBAcnatpDy8A9+VkDZ49lK5OBLhpwV+C0/Z+aCg/dsMQ9UFDnQ\n",
       "PDnKYx2HIynlvdDwyZBJvuafe0i8n5e0rQnAfGSR+9npy2Uw6OL15Z570B0AAAG/QZpjSeEPJlMC\n",
       "Ff/+OEFZwQ4nOfYKg6vPWrwthAACSJYqmNXdd4CtTsMW61KoSnmCZvKTiAIWca/v97PNSD110dO0\n",
       "9ukEAdDPBdkzskg9KOKlXJfbxwBn0jEKkK3Q8vgsx8hlODTikJf8+eM09v+diu+L4x3qzgx1YyV7\n",
       "6EvWq+MZQpFWwvd5Zy9INmHwdNVHSlW/FstV6nNDKOKg+HzESWYpkLQrxw5S3CltNt+DvHDC/1FI\n",
       "0wMYpG6pRwcCi6aX6rnEP12q8phpj0diqE1ImYyw1w0Zx1ES20EQT6//xfzJ6FEgCOhh6rhEV+UU\n",
       "UHfYt+95YkxyRRKRC8gUsv+A6UoCq0Qu/R/ij7g4iagJP42WaQN2wFz9iLcWKq+sPvp/uPWh/u/t\n",
       "DKmlWH1Xz1HQk/4Th9OlUjgSfKo9to1SZfAO6yzoFr8gGBCFFz1K5+stNegPobk9T1k18fL1WLKK\n",
       "zl4x2xhb4kDW/mNxQm00xjVYfuTCdYrEqfKxjLWVLACn4L3SUB0/CFdA0uXMF8go1H3l9rP03m96\n",
       "0VOvU4kIdF11KQotVZLptl8/qlv3AA9am87+VBBnAznLx5NVs90zAAAB6kGahEnhDyZTAhX//jhA\n",
       "MlwRDRd5iKdivBAFh8xU3i4oOaAi2Pc0NF/kaMONNf2WBlZu6mVKFQl2iN+zFVrrLPecdVsQa4hZ\n",
       "bs+zrJ1wmKjAofQPaYJJQq6mjUlQRqJchcWQNBfKED12nd5C0/skeGqtTRdxz2hS2Pcc60xHV5Ig\n",
       "/MhjdSEKmeji2YdDGPk+CIThgT9KXHv3LoPcos/y/CTEYRYb2AljdlwOSy6RqxkC7I6yfPgGExeE\n",
       "Hvy2gjbpYO+87B/fEB0DZF/HY0hQL0SP7nfZ/V8QuhsvWMQduSblwffH1nu3NiRUsZKINSFslLpq\n",
       "CIoKprlEwvR8273j3CULb+A4IiOm4BDy4QwfGPuSFHS3f484/c84a6hRXCz2ouUOg9P4U6UFv0hh\n",
       "KnIMzbQBQaAT4KL02nos2dvCo4wWbPhxbZfmvnTGPzqm/lswalNJhJGhx2xsJbAAAbGyla7BqNoX\n",
       "dKVH+eDxleBfdaeaxDYvyovoZezHXOwHOGfEoAp+vlnKp4ch4XmFN+QItddjZmwnHZP4BKM1ZCFq\n",
       "ibm1oaGHiNX53xgqRTDw4tjDRmlmjPL8JLBxFZ2ceHvTSSdHdn+nSpi+MuzWanXyjeDwdWHCwZMt\n",
       "eMR5iBck5cX04L3fo35DOifUL+EAAAI+QZqlSeEPJlMCFf/+OEAD3+HkhRe/UmN8T56cIACDzm21\n",
       "pcmnGMELIOnb+XGbhK4v1RC7MtUMe079UoJnHXH8alCsl/HpJaj5KOxO47JpvKQrmxtDk4zndMQk\n",
       "LDpadw9K3RTuDWQ/a6vQW88pCn8MI3d3xErbspn0yIeLGWO1QQ+xMWE+6Sh59SXWYhGsIGszvG02\n",
       "NH5KQC8pcEgpmoHcy7Urx0GkAQexPxYctR3CjaE9IAJSAS75tRrCmrS8us3i5mpR0FSlHdnJA+Fu\n",
       "0GOi3WVtGkkOTAAAuEDOakqe64te91Ma7Gu9U+ZQYZhz//9AqCWNbiyde2fx8Xkae285Kn9EJLWV\n",
       "SjCcK0LnD4177DUA3wddmFPd9zKF2t1B1xVchJopnhauisrnU1FlmMRJrNK+kUaDAAd8Z8J4m4nA\n",
       "myKh+7rTsyk5RKlUFDVLSf5UHKXOIspD/bKOxWjni9m7jue9sb8XpIawVUnWUNY4wnOZuP5w74qP\n",
       "jO8bhMy466GiSaZ7XSzoYuG+3v+ag/uk4hsC9m71yIRUEP6v3s7t4IbCwyuUvsAU10rHxB67cGgh\n",
       "rNFWb1bMcas0tiAvaVRarQURSZrUeiRprPqF8PuAcmwVQcQMEU5xQIb4WKeYth9adiP9fdPorIeV\n",
       "/W6O6khRkTLR4NRFivr2lAYP+sqXBymW/tMdYvkuM3y0yyHHvxaozPKeyc8ipVwEmA6vQ3sYHiSj\n",
       "TE5zTOxy8W+b/CuVJDcUISrtrDrLimbIXopDgQAAAuBBmsdJ4Q8mUwURPCv//jhAAI7QzvlWykW6\n",
       "7vdAAnUoW10MYJsjIyYqcI2sq74Ru8gnxTdgq+PKKfwE95qATE8xjVloVs72M4/ufGf5ZxY0MgFr\n",
       "1MaN0encsU7Tid5vgC5aETkdsaqpiUbiHkXLrn/nbSzqKlqLZjxCmoHlgCCPpUd/T54pjpQ3eAey\n",
       "AQc4qzyIu7E3AT2vVckY5vYv+UGxoTWTYbeCXCmlUpPOaRy5itHJX0l/w+LzcoZMkVQPAA49HsmC\n",
       "sORvaPhW8Ish2mfMcoQx4gqTK0fLmLauyK2zlh59psn+jwNlMRqA7oqvgvK819dhtDocq9OVBj7F\n",
       "H/ZmQ29SXx5GkPi44jrMgRVn97k+rh5cvZLAjm0NeMhxGuO3ZYkpm6rcm6L+5g4LtgVL9JaFfmW4\n",
       "HKCjQ2VItZBWO7f+1Cr/tZiFbBpbitLhVip5MbXiSXc7ULzVHHbxfpUaWZ1qbssI0r0+EPGdxqph\n",
       "GfA49QGWPLm3UTpvtYB4NJW2EKBVK2xS6ZyN7gVzPd9kixglQTbe20V0xagae8JkfwfIJ6FQviCW\n",
       "uLQY8sILhGj0GV1L3otup7AwLz0H5LhObcJ/rqqDnPCI+EmTAExyZcLJICncBB1QIOqqW0tWwHO5\n",
       "1WzfWqkCcE56TOmTWekSvLcxsHO3EDWZHRI+A36+hsbfPfJlFzjEu7osNaOd+Jubx8uK31CuBv1n\n",
       "lE5Z6JERek9nffdQUvwINVNmX0BkNUi1Zol5eRWrueQyXakSANC1MzIPmKoex5eh7mdiKtyILr21\n",
       "Q233zLvvKBikSnksjSqYV+FVpogSK8tzpz0Q15/S+jrc/GxogFteAX86pC5aKm2EiUQKpfhWecPl\n",
       "j0aq+vWbXIAQL+ZauvRJYdXhmm3xrtt8tinkntDzLTYkEf5F93eAcyRGuvqU9MgD9Er418THr02I\n",
       "/B/MvH5SiUn+Fwu2qu7eKangaskffdMH6Oe5AAAA9wGe5mpH/wQzBWC9tQTdg+1pihOQ4dADdYR2\n",
       "dB9oHFY67367IFRD0NjNHsnXnBVBbDvxmQ9tOLUyxPKtnMwDnQj+Zd2UeDwE+h2+gHd7XoVrNzvp\n",
       "J8Lh3YbTAdL16zBoCBpEkBwmHBWpI6m9Na71x+NdhwQbKNSerTzuAA6KSSZ05Z0zq52pONm4N+3K\n",
       "8n7j1Kv8v3RnPs4Oz96/4mpUEpxPoXEbc7cg0RaxO3sAd0br4A5R76TJ5Uh+LqJoT12lMmnrvhAF\n",
       "xy+zv88wkwrt74ApuNNb7DmzMFnwhguaZD0EJNEUMg9e8qWXBWcm1nU0ssOsphGnjIEAAAJGQZro\n",
       "SeEPJlMCFf/+OEAu3M1KddTzv4+EZISgHearUDhul78qeI26+7n4E6qI34p03CvE+nK5wxwwCGR8\n",
       "Jz7hAhZ5o6yJZhhZjYytQECJD/PvvIB5d1zv4uJG+d/pfbUICi773IqG6oK+bUjj68ujc7Dx3n0c\n",
       "92KldsT//kn5+O94ZXLDIuYboivb2QjqpiXonG3HRxg1m8VwaCqYnCwcDwPz4MyBVwk24y+aG+BG\n",
       "20sJDGq+K+EJ4PJ90JEFASxOsbzJrqkL9PS0HrP/EY9G6rnWYZY17DiuQmoF3stgOzKgfShvUvEM\n",
       "fOqtwUfKqkYAlAqjbwchps9MP3toGS1qHfPovfWNuyWVxBvjttp5KMgCPZfrrBaDR2fJBK/TpAgp\n",
       "Y5n4Efvz8xznQNNQ02JUP5UhhjTAaululDFRBA3K8q2gTT67U85KPz7IDOUYku6Bst0oSmCThwAR\n",
       "qYk/6TU/PtE7YcBYPRvTy5Eq5pbaGbal3BZ2JIr94k2DCXUo4hPJ8MKYn0Z+Fu4hn/4DSR6Qo4wO\n",
       "nAfJEY6ymuomZ3zbCh3APgXvWTLmB2faUc+kiIEGIFSxSovSSfPMvAJOku6B7t10uuvozQ/tqVxt\n",
       "2/GKxvbpqncnqO+0V0T2W7HAIhYp7jTAWKYcLBiF9dvqV4p9LEG8+PHCdCi+TcYsuMpjYIh4W3Si\n",
       "nxeJZnRDWaa6y3d3nEj0HssqQTlhLUt2nSej3heQiDAATsithiZ86zZVWnxsYdx5JmsK9pg6tHyD\n",
       "0ez5JCyIqxOAAAACYkGbCUnhDyZTAhf//oywAEYHG79yOnCzaIXIe8Jy+Cq0hI7MDXus2YE0F/bf\n",
       "xjFGBegDUmnjPjDCQlXa6lY9XXDw32U/k4KRcosQk5OA5mmY6lrjEXLQcnAaB4Jdq49whvmlf/yN\n",
       "y40cpRAIT/YGBz/1mb7u+febgG0E1N/AdqSaGQ/ZfSKSF9WXPI48HxaRzIqxsus/gLHuIYNXTZxG\n",
       "o5zo1R0myw22N/iFDOvgRx+lq4Jj/UGqWTQn0w6A4Z4QbuG0aQX3H2LepGlj2YlYDTm+lYVG93Jq\n",
       "pU91AgnhsXvc6cYKg/FtQlaGVKmWxbDPcTmxwqfc1+43Vws8puc71L+YcOfYbifGMZjf4+lBoEe5\n",
       "5KKi6JV0qL9om2RA5rlhvgaEV06+lSiRyHKuowLC7FOxnoBml5o4gPmh97GeWLMtD+t9/SZEFiUt\n",
       "ZS+X2AKRQESuP4B6j/ctn6vX3ysZaabFgJalHuCbo4WN0F9/z7f1m/XWbPnxvacDSJnG/aY296hO\n",
       "FSWhKK0+RFnWd3oAnz3oISF4QZ2SmqsX11AvxfMvIPX8L09y/+yZNKsXkVOrhZnN4JnfWzh22hpa\n",
       "5N49elOzpTrMKmtkD0FpixnO91KkxOysh/lk8TvZs8opJE7JMI6b6KxTCYnSTUT+kbBdv/ePxobt\n",
       "PRFvncDHBexNHWFo4PPMHkii6fbarUmHuuvccqkQZvJ1zvhCQ0gKv44uJgu9swbrmbKmkF9oBEmi\n",
       "DrBHHAySk3/E//AUj89OMSZpqZ/TJloNNNTWmTLatmb9Mqf8qeOVionr4cU41R6gu0Hng0AAAAMo\n",
       "QZsrSeEPJlMFETwv//6MsACEAr1Xb0QAOPbUX5LZAHYPn1zGqhzN30/ft3lFh9DhQ/Qgi5twVYIG\n",
       "zUpLvUhXR3fqNcXVSIqX5DATi+fuaHJQalWorpiYFaLmazECMB7N3CrKkbESKbbD6H1tYYJD9Fkf\n",
       "Uj/pf4Rp4AuPFg3APjfnjWdVb4UHMX6w87bed8Yf+nmd1MlgMUAJ0MZ0Wk95P9C6vbjEFNdAdB0J\n",
       "e2S1J81LOnzsjHsblYwLbCkamFwad96Y1X8BrtZ44RLtQE6UuW82g0rnLMmwF8K00Ad/a1vQAr6P\n",
       "whhGpea9QgjPfwZOeXbuZqh7skZbYC8dTui04a+Eno4XSF0AXa28SOi/nrR3lAZYoznZ4g9WNtId\n",
       "8Y64j1D4Rm70s7y+TcR2pJ5RxlMqjqthcf53hjrVU6nSBZTq0sIVeNGmxgo6JRPCGUDPxnszS/tJ\n",
       "ntXsoeKW0r9e5aJ/Dz366Hou2DJuJUmMjjqdw75iLrjBMUpcV7T/W+DLsSodPiSqTqtwSGtO9yKZ\n",
       "al+zize/33SjUNRYrilMvYIpibeDIzqf+oYlL+vyjpwq8Ddepdk6917ptDrttPd49lV9U90cEdDF\n",
       "KNo1pJ0gaGRSHWIRJNWuuZrjjVIEXmJFC/lMpoDI6JSlGmhxtQcztMzemm10sS4PrsUzhkAmONq5\n",
       "gV7j1a7QYsr9IW5TeG9Tz68cvULpyhZ71zI6LgluCWgojj4KBaxXTw5CHG9pcvenXPjsYyBYrO9Z\n",
       "wNDklpGuzPXVU+qUf4JtULUQWawB7hf9gJT0CGWddZfsBHSILxuoStVt9Z/VdNvILRZd7+TWJih7\n",
       "iu1FBn5Ktg2oBv1S0u87EmF3Wr+L4/xtyu0vTgys3sYSKDw0nRYkYTp6TnmUZbxvbYtHozlHJPE8\n",
       "62btkIW119uUS0KOCxAyU+Gkyndf8lm4kaOrtKCzR5+PzdEw9pwF7nLz5XAzawLKeYCp3PC0gEbB\n",
       "fzZam72VkZ7u3vpOO6bhmqH57u1ZCVmswqcdct7UOcycvOMmv4T7hIOsjANeCSCBN9Qwjyh7LFTp\n",
       "uoe5qfqHhNtubwAAANEBn0pqR/8AQ34IaOz9Yym9MA5zA0W5SU6xq81poqsGsnokezAAuUDzDZC4\n",
       "+PAz+q1sYU4k1iPisVPf9PC0IGhM3TzZsKhM57Cr+UfbXzGGyXiteBMX0We6V/jUvfPvEzrHU9e0\n",
       "s3O+P2RU5eLhba+5V2pTMr/BoDnq+pOvSDaH4Ze8Zr2FB6OV/j6yd7yISsGqsOzujzWL8xM+ooZp\n",
       "vqDYizbA378xPW5MxTEROCCaX3Cuo9DAAhxEUJ219o21rFK4NGEy7629ZWWwmxr4j42uQAAAA9hB\n",
       "m05J4Q8mUwIX//6MsACMI/qumzdL6T8Q0Lb2VReUOAIFY8OXbV0CtneYgSKP0oMQHXvDYdNxRlKZ\n",
       "GkkI/hRcrB3lDJ5Jd5gT5VNLo3pVGwOmzH8MDbDSEGkISmRZ18k8lkw9S/N2+p6DVo8N23iBNqVU\n",
       "Bb/GaIUTZ+B5Tsupqj8ViItLiul1Hth5+P4OfMIt0qfkF7YPgbKXJMgiOYG6RJ//h27v04Tri5yX\n",
       "kIw6BL/FP4Pbyz8Meg4Jdx7QJNBvWfK3d/0YgUC2XcdcuiWgXQSdRasvJVwK4HsPsIbwXmKiUwnu\n",
       "2SmBSCqCAQpIfjBkd4e1Y8sTs8q8lyDMPv3hhnjH+bJYqSTVi9a1ThH8ENtgMLUpFvbUeIgiLC8q\n",
       "yvHWAkIPHiMDyyi2F/8KyCrdof505Xk0nlDGAxV1pbADaCo+YjgYaMdgCaPi7r3HvL0NPrLLIRmc\n",
       "mMCL9xxVUA4QgbtinKfsYxNUDdC5bR/RZVydXI28wtC4M9k3rtRWdexzW64d4JiRdJu9Ji9IO8rM\n",
       "pgxHfQabwFfaIWt8C4o/agH4PzJk2uwqhfGqjJbjASm6h2oB6ejpFUBTdeF9YLT6rvkyp3NAeFFE\n",
       "3DzIP4BmZt0/zHrjERse0mcCnqoa6XVATRGw0pGMtGZl5gyOEQt/KR5xlpc49QkO3nYYar3oLh2u\n",
       "8Qov25GCG75rJRL4rEj6/StdC4mD40FyBgCaE6rniyeskiYfPbcE23OFokL6YK5hR4yjyGjYgh4i\n",
       "WPofG0a3u8hKoAddE69RVMVcuY1rA/n83qm3McwSQ3ywQ8xAePpEqEBi32LQSToFdjDl2FnQgaUl\n",
       "OslNc4Ccx8d4/Wzq0IFcPvurFS8NI70B4RFo/KoAPQBYdbsk3GFIKJpFD4m5V73b9nt3e03px3we\n",
       "J5h5cYbyU4kJig5KdnMZLibquSLmwb8Uk1g22EpNmu0huT9eEprk/zZZYgstLIjv7ojwyPLyyg8x\n",
       "QVgEqtxZt03U/0KRHJbItdwpPwgEJt452o92kVFNhyyt6kqlarmUuxbsB8XeQoYwHg50N0SJZ3hI\n",
       "CI4K1CQjkCQ0NtSJY6zo9CJ6diecUDPUj1Amd+nrWnDCEhSX70KWWk97qAConyTzksOxOdbJ14ad\n",
       "vohdI9x5vW5KVEt4GXQzf2JkJp4JSL5Z7gSBEMcU9ZvfzZS2RNXjoAPwB9Trn4cSka8eWKMfjX1p\n",
       "hiJbJToh687aStwXCgGCj8INAjJ9h/0OQ3KLVaI0M/P3TqTq7+945R1wF7L596zkSNGNijdm+1fY\n",
       "8LW34gtbQ8A+qf+WZegAAAEaQZ9sRRE8I/8ALXiHYYBeUs+zspFuwa6gnip4x7wWYiADuMabTk/P\n",
       "od86JH1eqFlrixdtRRhnzuOsH//xorT3z5+5tmXhK4PkfYlwuASs2Izx2r508J9NJW3zG2/DApOL\n",
       "7Pd8KEAXSm+fUCyUPuUqUP7k+UC9G7sIEzYaVF/6LltbTffK3tfwh/0oMzbawTRr7R58O7O3TqqD\n",
       "UneLCTSck3OoncrhXJ/V5kX862rejlX1rXqJqvtTQCpQ6s/4e1xDiMys963zkDxmmGc2+0oHMgza\n",
       "ffvWXn4rn29se4aiki0D0Eighr7y0SGGPq3oGbYKld99ahz2wm7K/FyEt7bmi0BKHe07gkpUhOvp\n",
       "w61uqqnO1xni0p2rJ0bJAAAAygGfjWpH/wCDHyolaPV6Kp7mVVueYAfWT/j1UpxUVn84MekU3zBI\n",
       "UEPPJkz5kgGB46UAExzyPVnz2+SAFmz/2ec+LTPVkN1Up+SvLutBQ9BcKji3GOdpJXUVef90tTdY\n",
       "nwyhqJl85VJEMRnVqGX7kzk/SNdDYE0WbB4RgY9wJXl8I31eM1GZRAPutPP9FrTF2i9dObin5mVD\n",
       "D8hqfwT/0lhuFem3ViaytHgkIRvSVjCjA9bGssX781BqpIKwOfQ8+vwUTkk6axrW0XEAAANNQZuQ\n",
       "SahBaJlMFPC//oywAQgf7YAQp6VmjK600aKa+WxOOglPYzwLS9c9gQIbu7QOCD2ORfhgdMzqtAz6\n",
       "Pos389cK9h1vN0yKcJh7WJSDxcaSLPvM3n66uEIDPTtV2wGK7BdkVbzlbGQkuyO5alkRvdm/0hvP\n",
       "Yoc2Yl1ezO4sxpEyTl4oRN83mT7RbWxHF6dmWE7Jm8I7O4kEUQnMJdCeOaDZasMtzT+DUfaIVBVP\n",
       "AGMVi+H9gLrTL+/uyXoftacvwDg9yA+f7DsnMPoOQlPtYXiRx7Wc2vaJjQfX5FDh8QYxAUfLzV7M\n",
       "KHHVG16VSBjstjrNkqijp1nASq5YgxwhIxUmivMRmNBuVDuyBKsSqNciRJp+pcp4isiIve8GEgq0\n",
       "bwQg6nR+TVlLEN/Q/cHbAjj/8zYehiSAQCm/o/0vvQd4FyY2V3zc4ldBqzldWUXiGQBsv+F4R8xW\n",
       "fHLtCkrn9BIbZS429C2P8CRSnSQAnhl15AS6Mwg2iPyPvLpSOc8GKQksvs5j0mhsnuTJmkdJiqfk\n",
       "JN9idsRPUHkEWhWUFcIn044XjDFZ8YKNBiMFELpJ4HA9u0ft6PJ9psAGwxxNhUu48ZB0dnp0NfCB\n",
       "lJvsXin7OftzRmMqwfyDvp93spYvwukatYHZtCrvvvdLWJLOERC8ac8cfeRCXakLLJakHKVv+B3y\n",
       "O2C4ms9BVG83SRH7VeAdG4WrKS3Y3nQTox8Q3+9xeJvtSs6S0Co/6ToSbOX3WB0a3qB9xum3WJD4\n",
       "bfwL+ASxcJXxN7fBP5xVRqeGVsJ9jefPoN6nSh7hQCI+59TgadhbTIkd9CVgBhVVaTsB5vgtnuwq\n",
       "Wb7/qDbqg/z11wl4BQ+oXQC+mnRLiCZ5p+m710JQGMgDQqYf5WtwU+O5Dz93dfZ7Bc0rin6EfhiC\n",
       "ciLBWb5aXLgsnScdgF0Qfvnsg33qfDgFqZp2bJzIr6soqmP6QYahiXr2cmTk9hUDo25s15gUi+2k\n",
       "x/R0VrIm+SnOgEoFinzHswuPUiNLgJZBGxDZ49dZoQoci20nMbd9ioCYPovVT8BJj0ThmCJ3mxas\n",
       "KKqNh5s6S95j+fDrS3N7rDeLtTW1/OrNBSyxuOuxnfulDF3EzpvfagckkBMAAADjAZ+vakf/AIb7\n",
       "9/TaQBMXa4I17lIse1wodUvXcrrxxqC6plZUlmDqvrnp5DCoBfw8mhU19zYjsNwjnZHvTnuVcSZH\n",
       "KoSZjgy88uLAt79RycRICRV8liCfzVOecqL+HsW5gfiwr9Fs9LOVPcAF3SzWyyA8JGboCRWB/WsQ\n",
       "AxdsakTtZwxVblTtiGIS4ShlkhEKRIdLfOCr1GRILMit19Kef/PTh5ddxjn0GoyUy1UUzDjFXFUW\n",
       "HFgp7d2MHueQkMXnhRNfLOpNHGMgX5AifMcwGcXtfDUTE9RKXnelg8243+3mItAAAAOkQZuySeEK\n",
       "UmUwUsL//oywAQilrBi64AOaMnlOQCMjfYjIcjVG+8qXSMhUcNysvnyOSKOn6+UyTy57d9BX9ptm\n",
       "oHygd/+//8P7eQIL1Lj0RjTw19YmoJjM9PXuY3OOrD9LNcsD01L33V7jc4iKhi0WMgm1/FhqeX+u\n",
       "4gdEDF+x2xXSyH9e/cXqMDhkSc0llFxh5zzpq2rx2Hc8eOdaKnj7Akn+peMoqr7zQvjOmS6SV0SI\n",
       "XMFMzlKjeii4trLGKvwvxmB3jAXVaC47ch03Ge80vQajlsJGmCboMw4irM79U5sL0OvQbvLVeCNd\n",
       "yA4yIMcGP+6iLD0B7fA7z5Z83fPtPyIF8l5vT5QhSMQO6mjAnjurGmJWs6DGFCKkWde5548Evrgy\n",
       "GgnWMBx2r2GEgTKOSLDHzC8QeXIBZBcHdSVAbgyYGzIElYuDiIwyROy1hbeOEx83npz7Yuiu1mtQ\n",
       "dg+TTeCMNSOGtfSynNFQSruzSuN0lDKXOblY0wFemLJROb23GwJPuRvcks97gmYDbMP9KjCGozeM\n",
       "70tIGuWQ4s3moD2+dLmIfuco6pIc9bEzYjYsDjpM0Blrw22lfFoRvSP46Zr6yl2dghElHAc5yhcT\n",
       "0A5dqA9YO7JY47QzcZ0j9o+IXMRYau1UpWWQAr7z39Ms4zjQhrRTjTU9cLzpXD/o3DLiuq2eTdJv\n",
       "QXae3N5pQ6XwQPpl6k1MXJ6UL1OuAslB7KH1fJ1dG2SCWBbiz8EYUAVElnttChM5PuRdYdmduXjc\n",
       "wjPEDn8RMzV75TSVLqj7EBfVgP8pffBzeJqj71WPaE7tN8YRo1DKGFwdXERlvfPficXSjps4ahq3\n",
       "NW3xLiQ6NLI2jC8ZGnmDPTTVS9+WRHiFb2z4aeVf4XkK4J0eoSoXt141Bla1Tt7nEqKiUsljZbL7\n",
       "S0mxakDdlQS+DAoy1POhLrIDTuASA+tGqD7CRGsYZCJZ2NutFiKl5uuG6Lr4v+H31jHr+YjUnkdC\n",
       "WRkhYDZF4wmoC9bXXUQvYWcKksC4OM7pOvbgTlyqiz4XwJsPbCbFulqKQZqCh5CvtU889/Z+Z1/q\n",
       "GG+/FrpQbbMWuUs6w5XFDGfiH32JYWda62gqgtXlxlNQ+q6Qi3fiuiulAvkd2UwZbHAdxoYm0quM\n",
       "z4AHdJMQe0WRy7+FIYL8DV2ywt5bCD61K/exf9aaAppSt84dLPl55es9fMfpcQ4awYSqac02yvO7\n",
       "1BgOclXSWIy0EfFuqogAAADPAZ/Rakf/AIZ5Gx3qBABO3YqFkCr1cLuX/fzsvZJxc1ZWSxuUcX0d\n",
       "aHLyIvN84KkwVLSc0fRXh1xL9g9J94n8XBZeX3TjhqXEMSnHF96PROhJJO4qI3rRAKsH2+BjihI2\n",
       "jz1WniXlxf2DDBZcMpHv1J0EI3qN0EoQh02cIt99k4fmdv766pvEeEBCLe018LjaweCVKqiCthXY\n",
       "2mf62DOicCHQ2Hy7fAcxJriQmWlnHVAeAzcWwx8gSA2R9ghWmCSBnxEJvbeYWA3BtVVXWwGBAAAE\n",
       "5kGb1knhDomUwIX//oywARBxFhABa2e3flADKtJ7BSOXzDZG62T1vm6nzmU7UZRbjuQDOs8njdkJ\n",
       "Vx/y7ymQSU5Ty1iTEKwXoayMJjwj7h02ig4AH8b99f3QV5aLBaPHbQadQest76oTpNqro+cF7KQ4\n",
       "6rx7Wzrd/jIyQ/hR+ics/y4MCvD/xhHo3kpSG5/JBDbO1bxLW19GJrDy/VvkARCGw/8GAd84Qlmv\n",
       "pke4UTTO9tp9VOpCk61fXG61+Wh6lR5VBIisBSkUzw5o+xbZoH1nJv6QCoAKlsDsg43ROMfkRwYC\n",
       "J/1fXLePcAj7h0ufNkKKZFKzspL05Sr93t/vU8/BSA+J3jedA0uP0GJzjviyN8E63jp6oAazbPL7\n",
       "sD7C+ER5sV9kAN2t2unbI83MN0in7+v6r+mkFdEpHXXXwVEdp/it1GqJhgj/Q6Pe61iVKH3e0Vpv\n",
       "+PquEitf2T/6ksT5GCBFaaRRxN0kukV3LD3S+4U8a0qULazT70gzG3Y8cxGHYFcSn9c3MKf0ujxa\n",
       "cmFuFHhSy/RSKvNsr/Jeb0CDvEAhd/VNnY0NjQBGAkzMjPGLa9GpxvC8oZnkubERPUfogHKkxeT9\n",
       "KGQ64nMbEQy50de0XcnobN2Dlzt06Q006uku7fbyfSRCDC2e4IXSMwjxU4lkJwTus07jDuwTF/1s\n",
       "FWCP+8qKlbrPuU/A+nbU8mGxh4CUVF6yFe9cx1AEvcHGk3DB9EYjI324I5ChSSby7CrIzazruUl1\n",
       "dmdv6N1qwYDNEzOHfpZVYIeclEjcQnDpDuVPDopjQ/rQOF6sbF4/VJdp0cg+TU0dla1j9PIB7CQ2\n",
       "U69ikK+5cbOw7wtBngDAgBwDZmNA3tQEIaSiEC0EFMw3rwb+qmTIMBu84jPsbnEyAWKpeMIc417l\n",
       "9fQCYSgmPj82eaeDyYN3u9Z0CV/jVSQHifExpOxBZBV1Svfsb1ZN9tfiy267GbgpX1cAiXuhtMa+\n",
       "ReLO53ImZxleFx/2oIJcRqoy2ElnWG2jGCGyHRkTgVlsMr3xt4J/WanfTvttoORxgDqVygfPpQyb\n",
       "7sfgCA1+yHskq28Ks6DUqMfF81vYGfYSIYT+bpMEyaZ2fFCEgJEbd3HNBRfpSu/V0pzbZpJg+bFz\n",
       "fuB946auaWftfKfRpyDrzOyUlxU/ukV9J93O/Ws7cP6frnziQwG7ntb//im+++bX25xZkl8I52XH\n",
       "mzes561GDFlZhElODGQN+5re+zFmz+1nPsZiPj0ec6NoP/yqLiD5prJ2/kzBqQe4JkMO/j8Z+rPn\n",
       "FWleObpE5jks+SfAuwKoO/rM/uSa4oqzTfsUe/xAa8FdGh7HUWthJMrE3ijsLDmdKZZ9jx/Kr9t/\n",
       "7zdUxW72rVhuwi40BXwzKJfWDMKoKx3R3i1gRE/6Ug74GsMZJp4ME+5+LY783DUHiPnuy7PG3Cxd\n",
       "T9IgBhoZd49zCmspcRrcXKA6IlsuJJPbooOHljYbAXJzTxx4R4m5B2tjSmmll73ayi/cpZS700XP\n",
       "rjLYIQQm5safJ+Nw4JLpAoef2a9KMQPQuyVHmgBz2ZVfU0ZXDi4vytfUmswhuEiHwCmRpd3Zwqy5\n",
       "0VXVWeY7o1eaDDxKldr2PKRys/2FKy76kxCY+hvMs9ci7tLsQaL6hXFey1sNM6P/0wpmFl0xh4or\n",
       "8wAAAXpBn/RFFTwj/wBXcDUr/z8ALcCGUcVMecVo3wH4xJhhkF9Et0i5bXGy7XJcoKfMmSlQBNvm\n",
       "arEO/f0SRz0XRNtVX2vlDseet+GcgJpRzll74fJbN/bn1H1fus7PMSa3pu0BjZha4tqxj2zugoDQ\n",
       "1yDbnH6KGKp879l7TkghyR0vmWv1iGsfaPP1wT6itHpO9urD9YRmjK0arGfBonI/RlFuUIp45tVX\n",
       "QjYj666gU+2njxkKAzlNp9NO/dT39dt9j9/VJVimcxDMOFeXvZx3wMqMKH5+cF9yC76YVWIhSJ9i\n",
       "t9/7xz9i+CY7Pmny1f6WtwtIj+hx6Vc/pKhlCQDX+0dJtycnKVCOVi6oSNYWDmibwZOncQ2xNG1B\n",
       "JstwTc/+SzewfaCdQunpFlIgQ6KeUchuotqFTgCmDVX74v5Lnw5kSzARIkS5KYJz1obGN6TY7Rz6\n",
       "ee2qWVr2CjQIcBbGaJ3ywxe5XJXtftycySZyc7gd6b2wezv5+gi84oAAAADDAZ4TdEf/AIjg8/lJ\n",
       "lNWDSAhbAAA7zp/sHs+UFID0RR2DBRRKJstU/AHdmAilz33veM/lsHiynvFbZgPw2ECaHsxcPG/q\n",
       "b53ZvxEDKsrGnI4MKHC1LD4nd5p6GS8PYlC0t7gAHZpI+sNpZSDpMOuv8aFXWWXotqk3eZFwOGcM\n",
       "RqmqH5xvm+xQ6opmKwBNeifBzrwvkYcbYtZQgCg654PMueLbK3OcpkE9hZLyrvtM3rw3TKwOYJS+\n",
       "QHBgOAPuPGvzdrDRAAAAwQGeFWpH/wCI4PGPbyAAnYBuvLnriEJGexIxN5HCS6QbhIcOoOAD8PB7\n",
       "CZtnaRDKAXeR2NWL/oPNit+VvdySiX/5aisRXa3v5cU9TbSyYT8N462caRgKbPj4qhej0w3tYOh1\n",
       "9FRXrk/RidufKiUF8ErAzQ7wNN3Qih+UH15srxA3A1slSmDhjpS2GIc1kjIyL/Sao23yoEpr176X\n",
       "blFaDMjmFdlXCpIS4nf3Lw6ItFuU5QfNCVipD0AGJtwsG1PN+w8AAAOvQZoYSahBaJlMFPC//oyw\n",
       "AhA9yABLVqqaKW7OFpeRfvV1oVMGsFvzD8f3wk9/eOUuBTF5yTXRsy14HlZSjhJKiAdw49EZbQX1\n",
       "2sr/axEN3jiCUrJSsLh4KNqv4O02C7F00Tr5QMkG2twuavOyfQN8GBS86AYQLBpUPOcxuLIrh5tf\n",
       "5Xgi0akCO1qat7LEY6EmAGEVr9zi22SWyQ2SQ1iXkNUcquPDe/ZiNu8orj2A6OFwpp5KIQlYjSp2\n",
       "Ic0sh3ziOlew0aQj+WrA+ut3Plit8/KvzeaXxyZAGScnYqvXwepshZie2L7A9U/41rGxYSHsbzjE\n",
       "PW1v/Lxs4AiTF5yQt420Z5EtgwTlWnnGqvBF2FzJu8aH6t6bwawLu6c3qRT+h4/Dgkhb02kRbJjj\n",
       "OwiOccYla1gGRbZJ1HVg9PhkgW+CJavZn+gP1QDFtrpc2PebdTvtOs3c05SBmbsvYvlvmisVmC3Q\n",
       "fm0947wRfUBtAKZmOJ6U13/+LEidBzmQGcZ1TRkPj0cQ3ho3lj1kzaX7FNqUAvzN3z2x+kFEWt1D\n",
       "E2v9vQ8NlKjggYmmQNWJGIrK2ivwHid3HYB3/H01WdF+wufac6W2MLUxafd+52vogcafTneZjhNI\n",
       "8uNVeL2jy2cZ8tKdnB6cS95bvsnHpAPVAU8gbg4hYVn1NEGtMBK1sUm8M2nAxgmDuZayoel7glok\n",
       "pfAW6rWa83tG1ZtE3n5JE5sFPV3nRph8dts4A0BWQBoiCH+Z5Gzrn3xNP/KKqroJal0XzAket9yW\n",
       "dhCHN8LpAvMj+ND02hJhuz4NJpTO0qnaLQh+sXJJlNMmv93e2ZrX8TysDGh7ifrk7DQk+0qf8j/g\n",
       "BtulaIeMQcqFXCi1T0UqeHgW5og9KuF+1auw8rhXA8AmtbQo5RugHncmFkNssND0NqxcxasBsc8X\n",
       "zdSlVRsUaNQrKn2bK4lQiQM1QGrQ4ttfhK2cDQDs3gURu0/BelTandxob4WaOoH2JTfFbkFJqegs\n",
       "Dyf5qaceNeHy1IDPMx7zjni5LfCrwQGi0FOsSOrFlu9v3cWN5G7VS+TjAm6XS6nVqNTXq43K+D5m\n",
       "zPApmAUc8A/zmxN2D3ceGNvtqoUU8QJxW8jlnix6BsizB62MT6qk/TrJys9W7RtH7zcEzCruC/7s\n",
       "SnHrWAL2UFXSbh5FM8q0VYWH3bgiyDDqQNHmJ+w7kAG0Lj8l4FlfjS42bQ/0yG/t/FEHr4Lkp4Jr\n",
       "QLth7yie4GKDNidhsuSbcQAAALIBnjdqR/8BDfcDdqPQAOFjqfo/ftXRcqvF+kU2gyhoWKt39kHi\n",
       "+XDx5iMltnwsOoqffnbLTvr/pZcQV4HuNtX17rV80ygoLH3A7fveoK22ETCO2dlAeJwlemMiVY/b\n",
       "ZZ9khAviogfNNhGyxY49S5dowAIMxD7KrPa0OChYCeRa4PryFXaatSZR93kDoLEVQbArbpvs3/ie\n",
       "BrlihGzo0ZOIxnX39HXHmTc1DKnBsKbjW/KBAAAE/EGaO0nhClJlMCF//oywAhKwNYIi4AbmqoHj\n",
       "L3z1ih0nzaf5WzAg73ri5LqZKZRsjL0TVlk26V6RMqPRhAbQ4qWejQOw/YqYS1grfhUytMgUTBVb\n",
       "ubKCO3yo6sGyaLKug8yuG0cEraJyA7gMimElXcaV6TwXshJCwLHE7oknDUakBMgwh0Dbg8UYhuLq\n",
       "PjfydnJ1keQazc13/uBIPXtDwUwzQ/MnTkg6Uysov9ilk7moXUjDKWtQRmDLwXtV2ieX1JaicBzm\n",
       "Q2dmyrMJym2rxQhrdGUXLKgEztQmuybf62wCKydcEAqqejOeuTZ1diwTqcWNMHdORw/GmZRBxsVA\n",
       "hWtQ9GJtJkHJ1cyRoPuxBYAYrE8UDhRZRzYZN6h+Ibn1knrjP754jaxotJk4mmCDKrr94Bv/8xhn\n",
       "M5+GA/NRgsmSpN/x6/k8dvjbfQzPuJH7gMsb/3eMxyCSLh/FRmTwKEoVRDB6HeTrXBCsGeMVP9d/\n",
       "M5/j/fOKES9VwyuBjU7GpQmMKJvgazjJ9Pm2bmgdm+q5T+QRKXJZyZHGoFO+vHUQ8+TZ6sOB5xo+\n",
       "UhjJLy/MHkLH/Nb/yzHIx1XNn0+UmomRSfASI58+VrDXnzaLR4hxK6P5r/7RTIGfEdqnL9S8VXbR\n",
       "gWbgAGlIHmjDJlX3qUgn0s0P4XTEYJWXlZYG5bf/ED43FJuhMlYGphqsLvm6oYME82dR+faZB0ru\n",
       "LfkNVMuMlR027jbTLgP3cHN+BZMZi4FGvKrQzgIFVZq1yCo0pe69CVq9sNapFYFjMyGtD7RwRZ7C\n",
       "yXNAUWRkEDxWueVtT5VELEY98vDtpeLXTqsRkIAYNr8p2QRGLWZOtRJZd68MUg1YMOEuEg1cFGv/\n",
       "VQW9y1ZYmkDC0GM5FeFGiLq30N34e/EniT77iObU3WyxOQXgQ6v+3JU+v1MwL26+J7bBG6xM/Bt+\n",
       "kZVDmhvZfiQj/MFRb6UPCZqpj8YLGLR6VloptfEKuC0GvGc9CcVwA8wVkuvgTte+WDtMvhyEviLy\n",
       "vj4sdzoPFRAewrcWjW0kjkXi5jB8Eq8gIOHWMx74DSdFc4r6467j1mtUAcdsPYKiE7shNvsnu9n5\n",
       "Wj3AIfyUuD2QmhofviVJivQ/t+j2vj78sO6849X/ImKbBm23LfI9IN0k3kzD8ze4Na+A5m5Y3T9w\n",
       "HH04mpCm/Dt/M4w2n70BdgDRkg6ObhAvss7IVOlq/Ar7OAU+hoeng9OtrEnmemsXNTmFMuD7Pl1B\n",
       "Zgxrva3XMmdZHJMUxKUfPtuphn1YCQMJaXhATgnKKl+yMS673Fy9/wUvjXhdHOjt4MOVuUrQJSGf\n",
       "29+B/NgFkCkQZsijb2bJV17th3RP5ueku2izc6tfAiV9IvXIaVEBKXGubxwyLQUPMP6W/rd44JmY\n",
       "kkcWpM7+88yELCDC4gvodQk3v2+icaVn5ZPUzc1QSjGqAO68Tm8OGMjFc8MtqlNToUt24KF9Ke1N\n",
       "XFtOt9xg6lJQ9c4HUhRpZnPo/JsXWRCzpoMEyCJ2qY3i48/sbIehfJcIYKnu0IQeV/ZhMpQtLeKW\n",
       "oKQmMt6TlFYVS+LCkEANNQbtpIjHvwI2+7l00/b/HCtOsahTUtCMj6N86FiBbrMf32ahUiNr4bGB\n",
       "KJ5rJn8pUY+Sf4Ju9sOCICUUc4Gkt1/bBPkONZiWBcwSis6Y4SohoGEJE/znUfFfWcUWZI4AAADt\n",
       "QZ5ZRTRMI/8AqmBpX6PwsT2nl00KkZCHWo9ENOCAEy2YNSL6Sz5IE1Yn5AI3HMcVhCw0dTgJZ8pH\n",
       "row/PLy3LMOQscAvvm6CkSdvBC/yAZK3HMrTbjsAm9VH7tfZqUvnG6Cts6iJ6NRQY+GnsbXDYXK1\n",
       "CpCTifQSfxAr5H3ja0S9XLfqizNnj34QyShyVshYAXBRVzIM90FvC65+UaB1q9Y/4ASAXauRqAhX\n",
       "icF8QAKgRrifBUDLm1q3ltG1JHX2SbkEObCl8Cfrys53VcEub2SU9xLvA9E+m8F6IE7XcfMl4sVL\n",
       "vEMotpMBI1M7AAAAfwGeempH/wEJvsgzYiV7Tcgk/QkZxP8NMAB36i4wux2ajnZ34T+BxN4Fc0en\n",
       "RQkhAcvm2MFuP0XzGesfOPvfWVbqSRLbu3ygfADic8tq/h5ROF5g/S1IwiJULzLW9eJHaBghPrje\n",
       "Gq6Km38jJm9dREBYb7oM/zRuA9zaSByiFeAAAAT7QZp+SahBaJlMCGf//p4QAgm+fwwoL0IYALoM\n",
       "iGLITxOa54BnflRY0qHuolp1hvatc/IPhH96IizOlxuzhsAB8Ll391x1zRzrWrgdLkKDnQ4OtAtN\n",
       "OF4LzOGe03ssUNZUy+/huqb7ZWdrKGH4l/8g5mLXUxzFy0JaVrbs4kHy2pWmwSGi5qGwk5ksRYIy\n",
       "2tVOuIRWWwACOS94iCAduK3wLLgGnosTIm9pmtfLBd3VgyNKknz64Ro11sYO3voMvutMYVjOyIU0\n",
       "RM4nB3I7YlhVrfASoHyqbJa68jwuKO6Kry9Dor6vaN6wl4/Yvoifl3qW+ARc+pYJ0YZbWETKyDZn\n",
       "K24CTdzvlDqzGtvpueWJT29Zr6Q479hatGV2xxKN4DYU7arkH2ul1csfyPZhbKB9lAXr6OgRb5F7\n",
       "kfm1DZr3MOONq+qLqK/VXG2CViP7EMK1J2ZgR8PQBdJ7PWA7C5UpnXpTqtlO5eukGjgLGF3ZvT6W\n",
       "fjyz0DyOdxVqSoSa7AUdnHxxExc634aeDl37UIpvYeRA+9pNdwu2/YdQ24//lurULPvBwrvyZ2ax\n",
       "fXhL4Lh3hau5RFQcFER0VpW+7oyOvpZDHekgEbQPImiqps7BIUEHNT5zeRYuttoIluiAm/5zndwp\n",
       "LfGZdht/YRX3qtlZLC+mC91dTpted7ercR34G3AR2o3oa1ypSv1bJOnAV5Kt/RQS2pdQ12saQvGY\n",
       "Go5Rv2e+N39ddtqA7m4SHRS37n8LHy1K3y37HKIa6Qt9L7QxHfKRJpTQriAGScD4CeKtyMuIWlSQ\n",
       "JY56VIeoT3wfkPCPhgjYTNgPpQDIhdDKcnyl1jlSOxrdqXZCUkKyIslhjJ3MsQDasQkbGwtAAoqh\n",
       "dtmUFzCYQG4jIII5iZ/VGZaKTb0Yvf4kMlgXbwlzSuM3akpQt0cCQNx8igUqKomHMdG2tag0n0r2\n",
       "7srTCcVDHEDp6bFDIHS3+7d3NJ0G7TlHWDjGes7akfkBZVg9zOtUL21kQDWcSGnRFz5I6QSU2+Na\n",
       "sdBvgFJATLRea+hU0+PjQ11YcSXlJ97xVlq+EJ+f5qYkgYtiKxN+km7+OYuWjnKJk0cm6HOJGfRY\n",
       "4V8/a+4HF35vbe0ykWiIRUry74hVs5/dqMzqIWruhw6/xP9WlYqGvaNaD3j0azgo5tWBC55Ksgmm\n",
       "xgDhax4VcQGZJ/0neQusHF+oYAnaYbeXsSJbBb8oQ9kWXi225IUAmzL9c6eBDZnaWEtD+nP/0qsu\n",
       "3eqgR7Z3dzEw9ESL6ML4KM4vRZtj+TqA4zRWFzOplei8YjCtF3sXN93VJteSZbgSO+dTPMC1VgcS\n",
       "k7OCuav9r+m4HLdi30Wt6A5drH+kMOumcJmLgGREoAUHAPeYQoXb5mkeQXdYfOrQVw7hGslClZfP\n",
       "LStjYj/iPEpw1Oyz8TfCjj7KyLC2tjNOrb7CS8vXZkMt5ncG67bufoz1D0NsEVVRNB+uwD/P/u8D\n",
       "Xe9Tmk2CULUrp/ewtHQV6uDOay7+sQaJDH/qdfr6gnOZA4Bx0uXBrnSM4Xb0RntWNdBQr50FLREK\n",
       "IL/SJ/5rs5bAUmkLYNs7VOEih21JxhtreIlg2f2pMUYzGtkT/QHgLdIoeKqqC8f0K7kQnrpMsdTu\n",
       "73UsCK3R3elPH9h/vXmR7tEPvFGxfQl1AIhRbwQAPbAPzsL1r6DclJP9Xf459qbPg+7bAAAA7kGe\n",
       "nEURLCP/AKvTCA/1rwQgYvvrjhgAJ19EJwE9Xzp1DqENA6wk81etbHvP5oVXf4RPg9lPurFIPSr/\n",
       "fLEWOebZLPvPxT5p/jwTykSZhjGjuwiYmcc/P49Mx0uqPsl4Vc/Qyo2kJhKvc8wRUYQyx6Ose7Fb\n",
       "XdoKPHnA3Ojg4peUPhgaEDlOFpxOKmOvQSEZ7GS7zC7543btIM48c1v39JRr4rOIuA6O7DCVEJwE\n",
       "0Dqa1yG+DNPdGavlwwZqvL7sPpFPmp0Vh7eP4O6NYslyL2udtyWYW2lZZJp3omqYjX4bqd3Nuyiv\n",
       "AhTAf6Sby0EAAACIAZ69akf/AQm5JNlY3ujC3S+CgZ+8hpdvlhFT8AJoaHLidqI8m3XZxMClZJi1\n",
       "inySn8qMBMR8DqLYX4zJVYfu8jB7898OJNYbwrRxD1q/tHXCsZ9YFWh961dsIgWTowJeCo4NveL2\n",
       "2+VvEpDzyive6tehnAp+2DhtEirZCWGXItMPlCQuVlWvqAAABdlBmqJJqEFsmUwIZ//+nhACGkYH\n",
       "ACMj3GTzrlIiWX6Azla7M+7G8wIlt+zVThmZjVi/bnMxhG5Z/88GjVW5cqkoFc08YUDhu82kkptE\n",
       "Uhx/Y0K71yqPjKxyMXxOViLVj9kTXiJWluXIL7V79TFeTSi8aZhFifbTLMUnNO5r6nNgjgFXNMfv\n",
       "FFiRKxziEYQeb7hOI34peEOpJoNTwriCIc/rckXHIT4Y4JaTDREXjv2lbh2YtXKTHZE+2gLMxvav\n",
       "+yxgxbRCtoZnHpf6wKVoZ2vWat0SCH12ZQT/pesiWH/DxmgXYVHnyUDW4TTNvKFP+GbKlpB6IB6C\n",
       "zf2rbyvmnzsdPYbfDVNT7zQpm+JhLo9AoM5fxRu3EnFshAetWCQeu4WcxnQXMDBKfFluWzHmSGe8\n",
       "Q5N4p9ZY87IUgCGG2TcJulCoLodejjVE+4yCICq+GIctQSAXMH8FiUDk/wOG2f0OWPP9tEGc7Lk5\n",
       "6N/DiT9Smj8Q4CEH7zE/m0Dlk8T9mBgnnsf5WvLdKa6bSD8FAQM2lGAUoyz6D8E7aKm1ZQT7Y/bh\n",
       "/UqlB6NLt/5yQ/b6pomCNvf7CZstwW0iAK/h7kS0b7HHZAkeSLEHAYHsITnUVWDRy0a1AVzj37+j\n",
       "mx3BNhlNZ/Hk3ex8APJjXSulFo0OPE3n7awQmE1WreSoqQHzqPDBapTtTFcHCi3LTmfOAGf+XwNX\n",
       "nbiS2ZA0+FFeBtEI0AMpgNXe9pqrlqnNNVqhH5GYbnQ1Rmu6T1HmHrasCjT3cCPjo4tcn936dNTs\n",
       "sKkisgGkPy1GOxMQFPRbjoU6WbSyKI4rbe9t7htLfIC0ZjCtoLWZCCCVjhdsHpXIX5g3PyO0IpAq\n",
       "n7QFX4lIZ9VOC6YcAXHKvlJ3c0ogBuf56KvG5rACwlFnEiXAKRtaELILfx+g+yDRvmwuF1ChyD9a\n",
       "sBC+FiVQxyMIuQwutQtyvaHBCV/xs5NgfYADV7roa64XD6zLf5/H6ZORfR38dRVp1AQdp0fU6bL/\n",
       "+gqnaJVbaRvs3CduVG+JLECaft69vLlzyj5E2o8QUnkqvJ8zcwGIwYWQ5Z5LWMwu1JXO3UMmYbfv\n",
       "UaAnMv/w6tjw3gr/6ISGkNA45/zD53wqe2WZGSpuRn/LJxcMmFuv1+qljp0BVGrmZKvmYP39i5A/\n",
       "wla56n3gJjuDt2ZCKoQmW533D+4O+ELW0LNgSQzUbHJ4fEU9zl36+SIcBUl4WnnIrwjHaLnNrkj2\n",
       "bJ+FUlnjzT5OWbUsOd5muYRE2UelY25vU+4uDn6/6L5v+9DllOj8yDMFkvwpt4NR6revQpzZWR0F\n",
       "yqFrDA9i7NrJn4o58W7hRj2+kIPWwD0zoY+FLiql8v+16MBfff/iKfWZcB4PSngNYqOoKBkOIK+9\n",
       "FhZyrg9VArZpJP1GBlsfwSVWlLrI64ePqr3Oox2kCugL3azx3AWSBzb++QEHTXM6F0ML5sa1rPQg\n",
       "XWAQVzxhC+EYE7o5WaUVx5B2OpI7+X556UkkgBSCuufOK6V52AKg9R2kk5cyoId8YQYdvNIF/CK/\n",
       "k7rjezcbyy6KcZlRAWYd8DVYzPz4iw9F4qehVthrbBqsp+SNSKRrJYsiokiHWk418VDuf9/iJ45C\n",
       "w93d0T07M/97BfVGoiC33O27XeyczQyae31w11ci9zlnQvy+V8FgS6O4yAF6X5mOEgbzjgpopv/y\n",
       "GkXe1JEH9qvjPTeNo4wnxqtX33KU728AjhhAZKTB5J2Hplnn9MztLATuLP9Xw/lr/fLboTzEfElK\n",
       "lLnJQG8x3X85g3e1iFvO6RBmKU0gtcWDh8waAWfduqOMngcZk0TmVTbEeqqb3rKgG8rH1rhphuW3\n",
       "3rCZQJNbgSkkIl50ia17h7bqvwmoTpFyFPVFFAjUWk6qBXwv1c9D3B8dKmnv/UN5TDfqPq4pDwVJ\n",
       "F1sUT0Et9xHhYepGqMzxXWiJY2zmUe2sfRVl5vxEorrFcYPkXJOnFjjn2ptMHfSFa7o/EyAAAAE9\n",
       "QZ7ARRUsI/8ArF7BhxigAt40cRvxVu82wIalDYPqCvDy1AAUBOO57xWiNsgDcvXPIDNfTOnFhfSu\n",
       "WQc1Ehm1Ecb2CXBCfh6DT7shRaX52+vLEvX5IoSj+6H5D0X5ECeQAjzEqKhMwDlZ6bD6Dio12oAN\n",
       "IlmLx7fQPlOvuph3KA8sGMJ7yjvtPYzYxQZpS8+sUC54uWBhj+hUUSFssf43EyX+tke+ST/hL7x3\n",
       "IcTh+oxcbMW6LY7aAS6YnJpMEra7DWKN+3iXnf1V05MJ9F4yOGjxu3AQQw6dekqJL5hTWgpzY+NH\n",
       "tfXQ/yVZk9XmuY3ipVAz7QOsCd53MnL2Jbkl94Z8mQtsCIp3YkJbZMwPTE+bQxoxYEGePjQ162vE\n",
       "hq7xmW3NWIEyBOhWY//SWhCwmjo/ftdIiJoP1IK6MT8AAACFAZ7/dEf/ARYUfncHHcpUL4NPJelM\n",
       "FU3LfRk7WKAC3IB34xym4hxQ4iBogS415vH0HRogdUwJDYI5geJY2gaNHmI4Vq1pp0EPVWd8hcNJ\n",
       "PFfdjdeqdUCe7QEOuQe9p4ACAiVlTlpFpfbuXLHgUI7pnS2jhhgse2viPoDEGKgrw9c6PAJtwAAA\n",
       "AIgBnuFqR/8BDEJXCls4AJ2sQ2DCCKskd2kbdxxutIVQbLKDM4fuU5XnybIOek0oeAPm6I0bLZ7x\n",
       "pJlcFtR8h+4R+TupZGwcY5Etm68jn4t7ADemNVJPH4v4nHpev3Fqs28X4KEQ34v3I7YZJ/p8dd6X\n",
       "WO05vHWBTTsn4oCJfI5inZWbDM48tG7BAAAFi0Ga5kmoQWyZTAhf//6MsAIfmQ6iSeACnyVC/1yo\n",
       "69AnhTQVhbY7/rL+2e+1n0xyY8zovvNcJr8Fwnebz7UX28clsd79lRmkq6ITk4ENAkf1BxY0b+5j\n",
       "zw4fhBA7R3Ve7V/pf7TujX58/stkbjluq/c77PIO3CkKjh+rXitvVZaEqnUSF4CFGGtJZ3TUGrvL\n",
       "u2he1vL7ef8Qio7PmS3mg58RV2SUhKpKZZja/pmukzBrufnvxsrT7F6JAk81G9cnAFd02SsYg+ig\n",
       "5DCkvWskXFaZzqyAYHaiQbM0hwCFlRPsccgFq77ymPZ5XsuMIacIONvkZTnwmLZthXx5G87Rk+oi\n",
       "A5acfEFZAoad5MovbMAHsvEOf0Q/gLrUBU76NqXzh83gLBeSiifp1sDlYMdh1DeyTlrhc7cfGtmQ\n",
       "qQHr90zT9BRH0WSlSX7ZwV5UlL6Jrurno7seHKLuyYsRhKqZhjghXHJnIFU9vZCpkDYlwAqJiPsm\n",
       "lR5JqeNzkpmhAnyxKVcKgdWxMgu8GCljFXg+eNdeEPSVBMT6pDwKhT4561OrYOgHTFvWR1rmjINJ\n",
       "+/iKjKpIE/k8EsHoHOz5AflwK35nz6lEIRM2We2qTxd5WoTS/H30NgSsYVrqRFKFYlJ7KFfVZ4DG\n",
       "24LjBPbeG82bWEUHuQ4IwtIuTLyycLHHWQ1G6in++fNFeU/QrPeGjBlvje47ePNlI3uz+1mqEqB9\n",
       "k9FV0X/SD+12+G05Bio4tSHSmI0+XvlbzaxyCFO6SuhQ5hdhmS14aN89WTQsIQ9jsEsd8EfbD7HF\n",
       "ZZ99lXgJE/bs+1Kl4hBJZbMSG2419/Y1y/TOJo8q/706ijWxmbr/eoWmjlZFjIb1lE3k6AibiSGz\n",
       "Hj8UKGaQrnYpF/DajAwApft07/UiMIV02ExXu3Bw89vDayOHbJfY/yuNrdkV0iqgslqSmlFPnHPF\n",
       "RVQ8Sx1tXwgl8kKPnpfd/JQY1kgUFBsaExjbmIdSafbxHk6GzDaBr7H5KpAGkIiuJNeGTmCklwtL\n",
       "GhFKYZxAs4xlCQ6edD7GMcEbQ7YGBfoLIp7qxe6RX6oEEgbf9bg1ZM5hPgALnw/Fdiyrc0gWdugK\n",
       "Sq8f1cilADVYsM/3HZKj4CLCoP9hXI7w0xiPhw8XKrWeX/15TrRH7hn6XgRIoJhAPmzlxdraovqy\n",
       "rjR5drQzCi76hxwL3iukIHhrcuJ4a9HL8QvRzsvdUwKExIzKUDqf8isKE5m2af2M8dJ/gleYTSDP\n",
       "h7FayJYgeoRnBqH+iSApjlu/XyYVOaQuC6XqhuFZ1Ilp0CXZkLTrBpTSBXeyWSc33Dd9fbH048cO\n",
       "RrSDTrzRL9TjGczZDhrJV/R3N4CfxRxQHNL+PnvIw8sOCdkJFd5O1JnA7rWo7pqkGUw5eWGJLi1z\n",
       "lctQtAyKI5mf38yyR+1dWoWKBKVOLu1jPLFw7eU9ZXaMRAinx3M9uCRes6kx758iaM3+32IDHKFG\n",
       "uojoPPHhpIGw/UjSKothSDa5V9TWfG3/S5+tkIQ1AJei9uf9o5grC+Kv3Y9KIOMxFWvGIju2/DMy\n",
       "047VK1CPFero8sKrDD6QdAZ/0keTqSzNXPfhnIELxb+r6P11Zz0ZQTXPqogxnUppleJOoGJksng6\n",
       "ri8bUnkwfBMRoVFqRzYwxZYxKJNtuK52/BzJ/tf2LIAKkvOMSHro99+txw96zqV6EgoF/sDh+Qh2\n",
       "13Cj5klT8Vy1nHc+5StzQsssUMq8myd9+ooRZT6IE8rKGtXkTQeh0iMhH0SqvvaFWDAQbwHyyd9j\n",
       "DkgcIMTNb4YDLUuvHmMkSSOaliokXPvqonDU/FypKf1d1yloZB6j0eRGKxaYNmTKFRjSsFV77oLj\n",
       "pUgCxreTEr0UL+ayjpUjvA/tfySqgAAAAVZBnwRFFSwj/wCxxPwA3RQB3cAo8Wb5ChkEuEHsk3nS\n",
       "L+VWgILScx9CnQQMcaDb7xAwSZECHniOHO7hy8QErUkbvyrWJKFJS3v14cvT2cV9iA/duYWYM1QE\n",
       "aD0rZnsfjR+qCGoVdb/Hy19rsPIeiW1KP+itVeHufA6OaWNmFXsd5zGFEXDEiFDGXuHQbS01etZB\n",
       "2fKuYmnhW0J1sJshAbEkTI3NBMl3V+KXYWIVRNjWs3b/TtbALXVhTurc4UkS/CaU4AWgvVbALKKz\n",
       "QtqERtQfWrtw//QNU9wEZM6mhgTTI6YAlbDfz2IjtaV7nTeR9II93dMjM1NnAx12Kcz9fH67RWM+\n",
       "x48qHElkczTdp9U9uqS/1BBq5iUAZ7mMuiTaScowG0ifzKDon0+OEl3uEsRo9E9iS4RxScHgQyxf\n",
       "F8Htez32p/ASbI3t1A0mo0eVCF8Q2k7+ucEAAABwAZ8jdEf/AQmbLxCPmR6PEMcKmW3RUyWYoAP3\n",
       "7eO9O+/64qfN6p4mKhu2Ua1c3b4PFWhPw/YpGEc1c+cOqtCc9n571jQ7hul3gd+sBNUZXbKb9y80\n",
       "Wo/ugpASpWwJNkDq3lXnB16fvU3rDaTySBoxIQAAAGoBnyVqR/8BCXbe9kjCbu8jGfI4FWxhw2eo\n",
       "U8oAAlk+eydnPFuG493o4MdBoL10ey5cXuFfEdZYjY97X5xcJa87O28wTXBAFV6D1dtZPJAQ0Sxm\n",
       "quVxBe2wVACREyPeqw20FlEU/O9WwUobAAAFRUGbKkmoQWyZTAhf//6MsAQAjm2ATSicbb3xJgx0\n",
       "FtYC1cyLeObHocDMuE+Z7FZpLG1bdn+NCVxIK3OYAeZ43B1c9YY/HrnOZ0lASfpApRI0vO5uFZ02\n",
       "npLTvH+bf+f2CNCsOAiKLQFOThfn1uVc1A7k4MaydyUIZ0vhp7ehKbsFGaXW7NKUQadPY6MNq4rB\n",
       "e+64JjizpqbEP/6iwhtvlITwDa4CqMHvPTKPV8+sD52NO9Py8SBBptBVUFP9FXF8giaXPlC4+oz4\n",
       "sfe9Exafj8XGYCfP2+dcgmehNmoCjJXK1Tcsd4ZXPzrmD7Ov0KcYzr2XXGrSJWiQcEZYFqLaIf/6\n",
       "/L35WUSxklM+LdLKCpDTY44WkdENBW/iXLD7V0OfL+qmEqAY4EXeCihHtcdks4BtBEUJ//3Bwbfn\n",
       "hZKe2b3c+jx2+VAKP0h5nm7QnMNQNgOCV+JnZVeznq31We13MO4DRUhW/CDAniBBWqYXIhWgBE1M\n",
       "kZJs0HQ2sqUnq8RaUNh3plEQ5ZTWPW89qbeaPIIxdYwRCy8pW7cBC6jZCvxpEfTTtuZ9BZTh09GP\n",
       "3csZymd4gvFQFvXmVoCDU6zm7xYTXq4AZ0BhkyxuHI31pUH1ujx4tEBTxQgPBWG/ZtjmNgOnCkEn\n",
       "GJ0uWbFnhr3mLTmDwvWRsnIe0u+Nf/nYcJTmWDT7n2Dhw03gJiTvcnCxPubhd1jQLjznB7bXDG3n\n",
       "o8W6+DRXhSpdPnVCx4AB3EhKhcd0lRaaMa7Qzy3PpgeXigg37qKXOPhGg9lRfhMCvBkEEDIWyUmB\n",
       "SzklTedkICQQy4n5sV19rmO/h74is0dxcSMVEVEGNDCj6WFoQZPy3WHyw1chuJWQ7TYXMm8MvPaX\n",
       "GhEAt1K7vtc+5upfsDAUAIEh7knS2/lWPPraEmb0xP5i6kyQm2igST7NQvqJe0HqndtPrfMa+9GT\n",
       "unM3kRiwqmjQhiKZGvbj0fik9Ek5P0FbUQHx4UR8wJYCBoz6CNYYmeqCzv1etDabgsRXlDkGksI0\n",
       "PZa6bHqSN/oJko0e5NVHCg7bDCtVmUTEKXdo3LUBaObsART/Ddx34B1pD5SU37IFa7q/ghuhTjrB\n",
       "9hJ9iUpGmMbv3ryh/urAs5x1B4VamO4DdIGa7k10fgQ1T8HXR8JwmZFjOOFZeBz9DThsfyhM7rYg\n",
       "9S+XP4gNf21dKf8xcCiirM2X518Xa24Q72Emgt2viK++JFSqywXTjrdiZ8xm4qR2E33uEyDn6z9l\n",
       "7UDJ8836meCuq0YwgI9mTXz23xArh3V6uFECT3YqgDY01IRbHrjXZtZFo2IBxPBmdskWao+Yq+Z2\n",
       "hhJAvGGHPAr0/B7eK7fm/1VgEBtgKKLDc2YyJcQiB4HLAIQXJDEBKz9mjzMY7CtPCWbZtikDfOWW\n",
       "Dl96zZtysrjO46bRWKAstgy5yMzgfJMon4IyvRBx6Dmov5jCG5aSy66zhxmv8zrFgGKXwC6xOYhN\n",
       "eIKxuh5cl+2k1fw/EhffJlhUJ+KoWHHTDT3odwBHG6AeuAfIg7LGZCIWxo3fa/GQJI/XmAWBxUYn\n",
       "5AYq2NPoFU74hhfysFJ2UZCVOvFyYSEKIkNFMFUwhM0V+EQjDeHovHmhDN4fO4iZEYjvAH7OSCNx\n",
       "dm6hAxPvV2+3R3HuEwknCevAI1Y2ZgVppoqW3HQbAabYJ4/MQ8Xv4DuVBMeYN1O8oduy4Gy97lSU\n",
       "rVgBusuwwKMWTOTRSrnD5AD6XsXYLmR1B2mJie4S1f6PfEFit8fzFNWP4PyMo3nh9/NgzIZDrTGR\n",
       "GuKlBl/LZXFBAAAA4kGfSEUVLCP/AK7h8en0AAurArD3yRkb9tCBh0idkakSh196UypYZWg2fLPB\n",
       "9X8nvO7EA15zSdvvmiCHVqzP4gaLPMTAi8pPL6fiha0iJR03t1mtMGjwX01gBDQwwiqvcwrVieHi\n",
       "nUiquOZCLLezOSlxKyXXKW4e7qpyajsQXTSMdPyVxOt3UQYNgOwrkCj1Pxv80azPG5ExuhMb35qy\n",
       "rp6QvZ/LrR943t5SU33Odfc8T1BFI/4YcStNsfJD4pLQBGGu5zjvTZAkm1a0bAd8o4i5iRVJ1y//\n",
       "S0N7bGtWKiN3v4AAAABxAZ9ndEf/AQ0bwPAVjpJySHHQATVE1/mrAJG7E1UD2eQhtmXzGKxaVbNz\n",
       "e1Er2tXPlkWoc8vHKtgjy7KPEY07anYrEsTcxaYEqTF9dJrO3cY4Ru4XEdjYLefPtZCjFAPF/YXG\n",
       "XgN0X+jyobjNUFSoqQ8AAABjAZ9pakf/AQm+jVhnwAAPy3dzbsD/16n7IJ4g2TT5Q3CMu0sSif4r\n",
       "8kC3blwB0NwAb7cRjv4fFIUBuasaBMQ8M6ljCeniFWQzYxiBfn5FlGQ5vz10GT11FuhCt/+rbb8U\n",
       "QTOhAAAElkGbbUmoQWyZTAhf//6MsAQFf1tsAkZhzfToVNR+uOfZms3hFZVksB+E27UrdaK9G6NT\n",
       "BdUYXDB5iBXbkQBepaW04rKW2v+n9NZHN9F0EQgPNt6JLMcGPN80en1ggqgjZsRirCAXkeUXX6NL\n",
       "VCA+NzW8JfXw7jtxwMnXkY9oh/p2LWPDQ/nNt5x4JO8jOuF6TZxTWJ84knCtGDcvMUIgAedtvLJW\n",
       "AaSP9p8wkTNXP5CTupIjaNSr1GIOAbp51fa5rqZS301HZuQMyZ8DqPGFPCudYyimBSpQrKLvmmwA\n",
       "MZTipsVDOkAHFcRC6/DonPog83JNL+20FGeqJaEg0VkjXqZt04Qbp9sGLrgY+ALS2gpaITNxswD2\n",
       "8ioEl0+352m2E/y+51EHBegu9lbRFbWSlNto8NcIRPi7RYHpYU0FBaADPuz9LhJhD38zce9nlt+I\n",
       "dH7SYJ7pLf/wkwzWKLStNcs+zw4dON70Xuz8X6h3n0LCyRWhDH7lbOyosVHIBPPl9UpZUKrwMk7I\n",
       "6cBs2mMhmtHk4vcA7OUKmbFoK/MiFt/1FmfPMWL5BE+Nbkc9a+tZI0EjeeXe4SRpKbusX3UYPfx5\n",
       "+PbK1WtM4P37HobN/jAmwSTtTjwQWelN/PnRh5BjZTJvBav2rLUrkTS4F0f+/hcMtrKmYQ9h3ZUN\n",
       "tEsOtJSew5Qfz/4RUNMDpMQbMs1BzzVoeDGvc2/alYRj9AOqvevcrjH3f86u+FkeOiyUmHFEmAhv\n",
       "IlZo636JP91UNUyVdUTBIPAWA3RZj9ghaPUYBy6iQxfx8oEHDe9nGT+9AVSOL6JOLZEJogU+rLhg\n",
       "qOEkUfMF8R7qUwwq/KA0taNi62QDeTy/M/COVTlVjxmntVHclaYToJnoGCXtyv7EhPAGesD31o+m\n",
       "RbwH6vLBXq+IgCnRvCcKhvkLYxcmyhCpv5ge5O7JSJXNUsCo+auhwmZlz4nhGtqivpoK3+UIV6+6\n",
       "Ry+NRuHDRQzbLUe2pnL66E8YfWY3wbmi+H+lUrNTLgm3ZkbVa4U/sGHbd5fn4Md+WvILKyR9N2BC\n",
       "Ga0kgUt0y2BKkmFflO7Ah6/+AtqemSiiJgeRmXvpChEYfGuhSGdlcK/MYe12kxGyXYX13F+hiG9M\n",
       "Dsxp6BbI3evOUqcOMgzPcpjKWDaa7Xgq1ndJH+9WHGgIOsZ2xk0yJah4MAlrgyMMq6DarlT7ctX/\n",
       "6Nykm/SmOAS9eWvenTZR2LNQ+diNR9/SzlacOByF9e0R4bFRhpwP3gyN4Ne4dfbicogjULlmzLoh\n",
       "UFBPLr9U4VyFX0OC8Zdx5aqLl/N4O3E/EBcTHna5yKtoMhSHF20zg0jBOI2HzvTt7JP2SFO3Fxis\n",
       "oXyTf/Xt0JrWpyLTHX+5fxbFd0Pmc5m795wAeS3O++6t69zdowENUNtPX1sMERzKw7D+p/xp4yFj\n",
       "HUwDMmjDtO3fC2WEXh3eof6ZAihoKk+Lf99eZYSXRcCJ55CX3jIQRtsTkcV7Y1xdOvubY/MEdg2E\n",
       "shPOztBlbFGKUWSPrEO8t3HbDFZkKlEBEDn/erHXmPAaOY/9olGdoXgAAACTQZ+LRRUsI/8AquR/\n",
       "CI8+vQu8ch8pABOc4JyO1XQKKpTNp+DNJMNbVlwX0tccmB8x/B7Xa+I1b75hRtqmAf2QuvpS/g18\n",
       "9f0AVN3UD8cqRx70Jl/YAOeYrew/z/UGNnkzlN6BI9OED5JNBjmHuUzxghTWbNqFaoAE8sfjgvqJ\n",
       "wtjaKzNYGvOTo8xgZyLfXdfszTFZAAAAIAGfrGpH/wEJs1K8KYobE5Jp6HucBvQgbf6mLgkNE0aB\n",
       "AAAEr0GbsUmoQWyZTAhf//6MsAQfKVQpsAmrg6lZZpARlO3LeM7t556DR1WvVMwJG9o+b5NJ78FJ\n",
       "MUYS2b+It7pECqxIIqsOv8Wu+n6WaviJiJeTi2Brq2K4TeS/p8Lh+fwPSqZpRLB1zG39Tt9nK7aD\n",
       "vUXBeUSNAd5QzANyv2+DjwEwOX15AD2zkIKAaGFkhdeJI1GsbFRbAoogeEWN1yVUfq/tPdN+3ZRr\n",
       "e/OmqaDgkdGd/y8de2CxEqJrNPUpYIpm+Sev2rkc5rEBwR/OCj7BhD8X/FTpxu7XTNkIfAzF9ZPi\n",
       "CH6rkiNzyveYgW5V8I9daA07xPl0ajtFGEiJHKSBYMt73vYX3X+A7hyxbsHDdqGLtyOeX+nHwgy0\n",
       "+8L16mhVq5AUiCOmmeBdb8djRys07zsujK40CPjJXAzK+CygpqJGZIU2xTtV+A2fuTiC4B+tCRyu\n",
       "z1+Nhm8LD38Pn947biaXR/2xW/IlmSUEduQzaMjRKvrpVEJwW680DAFn6spEtjrkymAQDD4eh5Io\n",
       "mi6KVAQ6ekUlyRnKjhDO0PEOyMmCpYIZjpo0Y9FJt2PTD/LvOcm+D/5MUR9afzMVr7gox5wgO4a0\n",
       "DUjggMZ5PIJOT7ZYn1G984mRj7ntXOEuxH1HYDphM0VF35cEpqXrMRw3sUaT5zHuzsJqgKMRATDm\n",
       "cuLLkIiIJD2OEfY+iJgRZreKfZt5vt8gr/fG0RVKt4W2LCbjpVi2y7+shgsicZs+brzaLVkVOGp5\n",
       "g0a0peloThcYyMt+Tiw/OzcPXu+hS0w2H/Mc16OpsyCPhuq86rIWMFfsHOrW68+/nrKNtuMrCQme\n",
       "Ev0EtjmS4L5k6d1zqCqOnNT40l4xjZgWNvdNgiIdr39dfmewMWWXQVTuLFRMEcF7p4XHUfL5rSxR\n",
       "vPAgsfvA7yYKXR76fy4BCOx1RTMrDgevnSgH0/S7Ko88W6Z2AKOYwnn7tzPap5cPkm2hB0vqoHwf\n",
       "qtmii1B4araPIGIEa4qLlY+rq+LyMtQtFeSCelg4dhN49tZRG6qdA/+qIkI5Qc0mORyJVWTQFAA1\n",
       "iscat/q8SiMgjzoBW4hNH3CNCg6GX95aKymaO+FmPFdT2jflLAcquWm1CB/H+v5mHYqw9gs+wD8A\n",
       "Dv1T89SopvX8mn0cDMwM7bt0IvyPxkbwUENSF262NjLLngnZGCn63GJBdSCRATAiGye/R3RmFqK5\n",
       "uBCU6apXGLwizlehFI2F3+fNYLM7FxmZSsRO6sOhZcjb5ItVtvtDSILj0x2aIIsDli47XVskEcDk\n",
       "r5UMmFc3WE/xLiOVINIv2birfEn7B/JDwDS6wj1ciUs2Ed9WwCQYyCbiPli36X+60/NZ43yQxFI3\n",
       "7MI/WmySfqBqFExf01BmPu5GMzG5iUMAAiNl+JBJR8EvR2pAQxslfypoD1olfUKkVUKHinhlQcBq\n",
       "NPuuuEvVrEJ2fe12gr2co+WtXQFq1IldUTdGco1+NWL2p74rXLq5FlwKkUmiTJviuDgI0kDeUx4y\n",
       "FzjkGbdi7F2fjiWmEtmw0To6fn3bNmurR9XKddgcsSIU0zoJG/djxY+YfdR+wq6xC4U6qv2QOfx6\n",
       "hM/kDacNAAAA7kGfz0UVLCP/AK7gzuVGEFQ95u4AboPCQn+RS654up+su6wAD2epotEjs3GhZXT+\n",
       "5QIvyVUHRhey3AnxVMqabFuUtvU/rvFYPEImo8lE02hIHGvBoS/Vx2HmwOHHiQlqnn4jTcb3HBoQ\n",
       "nyZDRft8CFN5zdiadKT/imQnOXQ3XmhVVpr0quEayBS6KgD1pMulQPW6lmiHKw0aHxKFOQ1UoDSs\n",
       "W07TyoESZTm1xz302WdZJOh2R/QnBXJ1ba14awEr1A65mJXg0PBrzq34mD1zPBOVsvxmNV3b4mKV\n",
       "3ZRhclGCKVkWO2WwggCUjxP2R6EAAAAbAZ/udEf/AEeGk/J/hP2Nlk6SZi36l6+Dt2R9AAAAGwGf\n",
       "8GpH/wBHj5S66tCbTc3e8nLI8YqBvCrzgAAABD5Bm/VJqEFsmUwIV//+OEAPw1jahO9AKpwWWEbE\n",
       "bqAu+jySs+OmpEXwbtGqCDW6pKAyFxUYWJZ5bcRbgIKOGnTGkl+m1sKVmdNBDmq1u5iQ1JJ7N++o\n",
       "Cznc06nlXDLWa2wl6WhkLosb8CKvXjx0AHd7bTcTYMarlsqMz3fjk+0LeRiAEghVn8SPAMkBo/Ls\n",
       "gmlXJgMDFreH/wjFrFJ7VI1BNyPuVyEv19um5mDVLcD9wwG3ZL1V0gSKXLiCsdAJh0gBfNRpQmmS\n",
       "4Nlg3SHefSyNDIcXOwtTHtrXk50Q181EdEWdpJmE2SzDBRXk6mJKNZkQ8Sm/aYY/ML47Cz2cO3Zq\n",
       "BnHdWfgkJTHRgfGmn+pnSzKQA0sog0Hp9Y7HvYoTzUmrXya5pvdwUMUJ6vc880iSvc2WpwGQkKC4\n",
       "zLp29UCrL9JNkHvvwr0ZKOCGHCLuaDz2LfvmiG9aEaIg+2tO1ci9ZrIsWvqUe+rpLmJV1/6DQqt4\n",
       "7coiqHd5UCHiZEmsQq+CP4ikJfrSk2Ie0srlmQDdNA1Izm4bzkKh/dFkQ0zUmZyy1XPLaj7zXOG4\n",
       "3r8aoSO83tchBynT0iKR0v7AhUHU6v62m1p1XeqnWmyx1f62yhpyHTNHIamHeLh6j1qaq0wg1lNz\n",
       "2hqwJIOuQaZO9tgd2LQwqla3Dg58qPS5RmcenJyF9zC7npC0cWUFMWXfjnllYmvA4de/Mfcu/N9G\n",
       "ep5dSWWpCePKb6NLoX3uZeOY/+D0yyT28/w6FMEcFACw0JsRip2Bbbk/gzCziI3j6H0GfXXLL09Y\n",
       "o1T+ghu9ijBYF9NO7xhjfPt6WUOXmZy+fXeLpYH3zshVU5+raKaG9gqkGfn2E1D6/qnxEZif/YnQ\n",
       "iXZ5hCMHr1mebnfDWdINvBprfYFoSNIoy351YMjlDNMBat+Iq9ncaIPpeGRrKeO8j27div/+sQjc\n",
       "o6U/aOyupg98E6Jp3HtUER0xC/miYgGMZSwvGr14v+4bY8ZGH7twGz0eNpqlg/sItFnW7b+JDkix\n",
       "JNErgWwPb3trhygU/yOZx2s3uOXMhp81CBYX1PLWHNTHcVdGPt2b4WFn9pLkn/eZPnoTpUYleFc2\n",
       "5Dk/J745F1RnbSiEHcAGt+qJarhZd5bMG6qou0nuoEs/J0UVNtsABYrZEnbZwEuorrPw0QAQO/mk\n",
       "7kMWfSBW9vooT1cmIUF6bCI/TDplrVbjfADRG8uUQHaUuVFN1qn3ROO77Wos4AO5R60Rn9+wETjS\n",
       "1xcUScxumwRCQv7g8T3t2e17DZfxHnvuKVuXpY2Rw5jmc2WAHkYVZGgsJgidx4XUKVMHZ0uNElAC\n",
       "rIM0lO2P7PckGiQxRlGn344+sgV/iyAyxBpsCC+8dl+9p0mwNdI0ywGaDqFKIe5+fRm2iRtDx3XA\n",
       "BNqhGs3phVL3MDtGtSlatOtLAhwMl/xvggwyFCkLdw0AAACMQZ4TRRUsI/8ArXkOACWe7nQmJe2h\n",
       "BlXQ6a4/+UF1jpNoqBCcSCZkH7laKVRVA3csb47P9kc7QV/p5CUk2M840SUIGAi6hMO0ZRIVLg7I\n",
       "r0K8ZiGZLAsb9nJ4SxE8FnfE/1O+11pHkmQZdbChoYb+Rq53a48pVPjEsgCwMThFx6IBYBiGeExI\n",
       "jmVeOFAAAAAXAZ4ydEf/AAWIXThBAfH+VPKuVL5mxcAAAAAaAZ40akf/AJL8fiU/wimRax0U8hbi\n",
       "99P01jUAAAIoQZo2SahBbJlMCFf//jhAD2/Ls4CfDE33V0+jbgKiFcSV6JmcAxXo49fimtcxKxLj\n",
       "y2KxmnruSlzrsPtPt3Ad5VcShCX+Kd8AnJgbQMoLXS8argU66Y+sfy4jiDhX8iq9O20WhUH2xTUV\n",
       "P1mHWmmQB1d6s6FhOMZYUPKnErZaO7Y2Vs7uKn8M82U0c34I2ZoIO4YrTPkLEVDjOdoA+D9GREFP\n",
       "HPuw8Irh8qcvNNciAu0otiRLmfGbNRs575EP6yopwwMhmN2PbFxE6+pDnH+D3Q7LzhIkM7BRdvaz\n",
       "VWry2xjT4APsoSH/b9LzdCR/b9XDFhfTlJdI9fG4egBXCmwESvvUifb7gF9WNPcremUmIC2bdlm8\n",
       "0C3rzMoo0U5dfCGm5RLtKeaa60dcbu4u35YEI5aURmcpo7Tb/pL8BnYXejpWKocBP2+41Ee8oF8O\n",
       "kMZIdMSwCyhVSO1P3gH/4NvV01YG1nBcryGRHA9ibTCXq4nSWKbn2UFe7jWuLTbt5F5LSAwJiXIr\n",
       "/14JYXSk4bfEmCDW5HroWIzJy+di82eL71vu0pUjKHjSCWXw2jJkRqYQtAy52LE3RiHnat4WIZ0M\n",
       "iTF0l4Ub6QRu2Ey873UBTSAZnKTVmZlVF13o5dLFkNZhi6pRhQozV4SiaosBTF0zEaD688enZ/zp\n",
       "VJM9C+NCWH/g2bH1sMgA9UA3y0aeVVIOcgFIdrvG4nAv25NsCmglkkcgq4nfkj5gAAAB+0GaV0nh\n",
       "ClJlMCFf/jhAD841HaAWFBp6q0DNbzIZJnv1obxzbnF9XII1+wc2sgBLVudzlKrNqp0eeR7lqBiv\n",
       "Mmhrk+c+eOnODGluDRKJ5dn00XBXkfwK7TP+EZM3/2xLeG2xZQ3v0Xc8PsT13+zFmfEiPOSyFOaa\n",
       "GMqxQkCTV6zfPLwkjWnik+MZxoDRGpLu9WVzb14QbzpfyVauBnxxe1YYn/h24ruUMl4j8wfPJBIA\n",
       "A0ZY9tlgun/LAGoo2en2g32aHNQmIN83ye66sYE7ND4fSs8Uje/Vl2PNd4TjYEJjXnhslhwnFUao\n",
       "DfOSP4AqT/eGuuGSO0VUkYw6263jdYtEf2g5NE2r5rmMjjJ3/M96AWhZxAK7b56hcYGJ16qJ7IRv\n",
       "LqSgGOyB5g1DViObdZHLp4OhMaTeidwry9AQVv9/1vzmXPYhwqOY7d08Rn3wzQ44nHmidFD6mp6b\n",
       "R9xw+HEZU4PHXXaz2bW93oZ67vEo5RoYddXuCLI/lxlJTYQ5erlwMPwmfgmAS/ujgbNk0BWCKAuC\n",
       "mFpHmzKXeMBskvNqMOXzUhgYWIDkOYk0F0j8DtoWvmMsjrjPKyvESLz0WxTDZfruC3F/hJh3cb+z\n",
       "xcoscaqfyUfqqGhVRejvJ7gS4G090MJGOu4KX4s9w+QNXrekx7hVJO+XoU6eDQAAAgdBmnhJ4Q6J\n",
       "lMCFf/44QA/HoYwDVvFjBXyv/pImarcZVj54iHXnJy4y4PIDGJCkkIhuRfrwkQixlRqTCe/5S/Yn\n",
       "Y8y/QLakerzlshubNNYuMlHQMwekLdOG0cA4UGA/99jJGdW3d6C5qJRIAIHV/qkrAJKDD6ZMSkOo\n",
       "9UEyHwDhQxpaSgtxWJ+KypstyL8IVz8LVWEFDM0bw0j2VJuGaQ3/pHKGLBQl5Hsxlh6BWC71WeNl\n",
       "fW0Md0g8QGyAG0xWWeppisSRTteK618051rXo3DH+sPC7rvH5QVhAqZuCh9aDUP1+pN2PSANIZeT\n",
       "HhCulGl9KTmR8fSPAwb3FKy5QGNNBwAhe6BVEHLnOhBB8D5xECcU2J4jDR1OW+3MaAOef0yEo164\n",
       "MX0Tx+cxW64G7JQFp5iPcRcAk4KUM9za7rEZoiY+EH+B8XwjywJYYRwkeuQTgWvpGHkXpzl5Rt2C\n",
       "qUw7mSFTlDJ93PnGhj9tOQO1MHbhJUF77Gbpb82nAibSjIIAKdBZWCiE13UPsQzFc1VwCiA7VvCi\n",
       "r1P2fZFxYeTYFIYGdM/WKvx8v+f/LDUVSmYU16ikQ5Es/UK4Ki0IGrA5AvqrndxIKEJ/oxF/AjRR\n",
       "c2xnhksgt98SRqSd0ORDQIZWNEzGbgAPcj/DVkdt0mRBklNiEi8us4FqMne0Sm07InUxxO4AmtcA\n",
       "AAHnQZqZSeEPJlMCFf/+OEAPx6bOAauRlgmpE+F9FBVBDJJAdVH+/WkBHc5hvzpb1i9nih8sDhWZ\n",
       "cTT4qcvKE82aOKE4j5SEGmS5g1zQA+tdVep2LP9pjNLsYWzy6K81b2KQ806ddflkaA5gszcxwlWD\n",
       "/zV5gbtX4t966M+4ezShFWgj7pqsHTQajNnnT48EyYUd0q2j+7fzMSnYUX/A2qb8UtmTCkjWfMpO\n",
       "xOmuE+WbgKZzijdYl+W27cLQLzxV7mK5SpnbERNMOGYFEEgs+0pmiZD0AEaxmzRKyErstV2Qbubc\n",
       "dKvbkV43yEb6QzqlDe3ZzF1PDI8IodPHQy7zlbMYeMNpqyTsd2SY9jwyUImpbk+ggNWTCfb4p2HS\n",
       "t44J9d041G5PzWTizueblDx6nkwBMVhuknYCeDcpTmgX9LjlpXrazkVwk9t+Btv9ZeXyHEWbfFxX\n",
       "d2CDczc0UHJz5OYjRaBr/r5H/SrRShxfzMtcf7dmvoM6khbqtC2zVTsJjoBLZlfP/UC1QYgqDT93\n",
       "AcNpQAWu2B2d2ErI0Ja2BOVLRCL3WWlkkKzZq7LW58ka9OPeZosWMPOKBOz2EonEg4OzQfigOuAN\n",
       "Xu6vwXhOjkg96gADiohyj1oFizYYDHkFFCMcIewo7AudeAAAAapBmrpJ4Q8mUwIV//44QA9vymMA\n",
       "0siLedOKFOXGN3KSgTLVBGot/Nv57pLHLsi6CC3SEMBFoHRHghPrcj5Y68TZgTqOBABrmUEqvGWJ\n",
       "J6ryecHZA0tY0BinFiV1hpOV8/R4IMv2WQ9ttiR9B/zVUwJ6ltIvTnEsLgrovL94aGnz9JKNUrb7\n",
       "S8iOl40E0pl3G28TjM+YuojaUwxHNmF4Hh25NamRNI81QXM322e+gCUXCQBz7GT6eSzHL1l6wnXh\n",
       "y9emweZvonssjDWFJLkcTnby3+HfJvUqBlsbYs6RolHcnwUHWzIb3qB5yGACJJh+5e4g5oDZ7pol\n",
       "Yj1O2e/oJ+mL7DOG+yFKjnwJMW8W6bhx6zPtv6aRFmSnsWKGzoYnlIaIwv9hEKAoxxgU9Gt1dUOE\n",
       "sJ4H+ygrUJu7TiqvQN1X66RN4eztpevspQccIkCTorywrGRVhAPJc2Pl0s62uFW7eWuS1TZbJUTB\n",
       "7MUvNdIXR0tBRGQg8p5YvC4V+Rv4ePbWl9h0HH/zptn2fZXkx+RyW7gLVBbsjLI3SGUXqZearZaI\n",
       "wfJS2CwvQuEAAAHXQZrbSeEPJlMCFf/+OEAPx31ADOg4fPiKDuaeAhwcChlOOB/gqbY09yiaheZI\n",
       "MICSefBlra+aTZrs2+C/SHShtHkf5nXtd4dobOy/kJwQ0w7Fv8GL3qzHSTM1Yecotyc6HgqZ9T5V\n",
       "NckNxQpv8Si8rV2KGAKCw/C18UMy0UBV0lqqWmrnw7j5f3oAOFhdrCk2/r0WdJqTKExWfpNewMoO\n",
       "WUW4tp1toRUyPsAhMw+WAY3ObrOMplpcEQCTIdz8SvO3b371HzG8dsGAeGmOPDTFLg+UlwyI+kwH\n",
       "wcbt2wAgOrcmBsi+47uC9WkD1DTMCCvEOMN7EmkO8CacOluKoEX9fylWkdJQ7E47BpOgmO69MoAP\n",
       "R1kZyqKbDAWxxL2a2017n5wwRzdfb4or+EsMQimj4D9psCOJfyJo3ZDd+2tLN/6aRyEjD8lng+Ld\n",
       "kB22R/hOi6reshZ4+qqyljYhqyBGyBmYKQNYUpK9nmq8N1w8Jb1rxYqQqBA8NZuv/04/z/GlNIbs\n",
       "8IP/YcykfOKCEHPDq9EawccQWnJqAFa74xAOK1skoUX+jTmqscHiEqqjuFROFQx35hO2TE/F2w7i\n",
       "eDv+WGUPlRQnpK03C6D7azChRFyB4wa+2aOYAAABx0Ga/EnhDyZTAhX//jhAD8d9QAvtvn9bdFVa\n",
       "DSFsWEv5UC0Iap11NrgXTbcTHZCR7W1feLbEJmxgMbhBwAt9fKb8u2oDspsYpl9TFK2K6ezH0BaO\n",
       "9Oj1OyNgcf3l5xW9UfBWmzeGAcGVuCoIv9VERkKZcJaZOWAcj4s+cFYqGtzAuxw1bSaWbBq1M/CE\n",
       "IeUQU1sHF3+HrFMebLMUvzB8izxCKcyP3oWaF93simxNWOYma5A/p2NlaV1ZwaWnhgC26RSQCqYx\n",
       "kH2TffYnaHzC9JVPJm9wBitP4hmYQqucnSIcz56cDM1BZ++1kCsCFRdkuQY+xmlaA5SZC+L8nZy9\n",
       "7C/5pEL2eFbvhxdjVidPoh0BrjnOv1B1r6rARpWyLtX6Dy56kEDRI6ZWtW8ZhufB5XbcyRh/ot9+\n",
       "iRv6peKKSTDp3QTH8Zloa2vQkDK/hGDIaA9ecL985z/g6y13Ma/Wsd+URqUreiCjxUfiYE7c/2Cd\n",
       "YR7qtTpFJIyAKIEUfV35kdULy2MmDGj9d+566UJZnjx3Katf/bAG7ak03wEjJBJ6x2ZPspS3hH90\n",
       "bzdt1xz/RPSfYUej6O+tdbEjmJWg/B5eLTXJd2/nAAABtUGbHUnhDyZTAhX//jhAD8ehjANWuALX\n",
       "DWy6dVzNUhUS/wWE9rgfQ/NNyA8zkNRsHbPok4HRLZQwSvFIXc3tC8icRO+k2WXtgch3uzMFbtOK\n",
       "dTyJmEnxeeeDl6X/XQXpH71jnDhgqbGAjOkJTMPzbd3gMEb5iDAxMv7NCTsCUTyWO3Z3nBMDDNfC\n",
       "diHiaaHpJOLufa6oSJH9tXwscRlttfNvQ5usNZoAVd7+UqGRMxX6BDoxufxAv8MCf3acVSAE7r0j\n",
       "DzOEfbnphoc9I4c/F2fs2zv3U+aM4Sf/4895SXnUgZddyqWOBKajgTW7Vbn2Fa+44yq7cKSjup1X\n",
       "lqmybviJb4vmhN7OJN5ah470x3SeiirYIUUtHB4gfvSutbRTkb58x65MCxys0N2DBnscHZ3K/WEf\n",
       "XW4O1o0+jHVUiOQkaYDO05IKBt7VZ6oQSAyFrly/hYCxM/f/WBBdAbZgZrwFjEkLtb0Und1sQJEF\n",
       "+rpFGkAu+yXW2HTsolrCz4GMrFPYgGyYgpN/PQcvDzdTWpfNpnTF8g7dbJPebubKS9PEihYPBpdE\n",
       "h1ddfa/Hf9BvH9DPudeBAAABfEGbPknhDyZTAhX//jhAD299QAvylfLnuS6xr0Q5rNZgK85DVB3G\n",
       "V9AzwXw6nIAYbj1Xje6YJKjwnoUSx1EWrzH3inO4FAecioh9DXty9zcEP6Izfil+1935NovTdJb7\n",
       "4JHbwPctCFI6OvY/kyXmRRyL+qv5Q8U9bTU3wyWDfTUgMbEyBkPIAZFd6mdc459gKJKh93cIIrOL\n",
       "SruOBHWF1ix/aiO9u1XnitYi7hiMTe3Zuf4+Ri9OkcRFGuo2jOEAtC20msxM35BCAWXr6EaR4GM3\n",
       "Lh2P5jijFrMhBNerc7aOi49gv9OZ6QdehRDRREVl/fsOWPWqiAiC5pBU7pmnmeX8n1CCyf4TSwiC\n",
       "bVJpJwawzNHVrPq/0e7mrj4zzDE1dBBrIDKyMLo24rprKo53H8vSnQfEjNa6xqEPNAt8XSFPf8GU\n",
       "P6Axs51I4CPDe2tqz9rt8wWXx/qTbdlop3kGsA+7EPjyZUYZAYwLIDWzoopoALmB0nDn06S200uA\n",
       "AAABbUGbX0nhDyZTAhX//jhAD8emzgGrhR4/8TpbyqPxzt+sBTj556hHjPzCICkGh8P1yXmmXoCB\n",
       "KVqlze+KKaqJtX/d2XAAOc7xCULx1msWIsbEhIc6wf//LI9yNy4wiZbzNSKD37egxl8E8SWl/cHT\n",
       "Pi9g1i6G4nL2dcCjxfLLFp2b9Yh2tTIBA3VvUihS36ge7SFFRBjKK8ynvnH/Uc0nPRtJqfUDDqSg\n",
       "ze/N/x/OTTHhBjB3yQtW43nDApXxk4BrK+Daydv8mJCrXcOslA4aknKx6cLlhh1w/CQ8fcQH26Q+\n",
       "I9672Wuz1JM0ydQbJbgXvYKehSVyiplW/i9//Y22VFmPa1Rmrbu8tcWJOFtOAgGoVGkHyQdEwkBq\n",
       "9OPv7iubwpVNv1A8W9GwDRndRgaO4PgGx/pi5Td79Y2R0xDZVYGxGJz1vsuCg2v6dZ05TLDwgNOm\n",
       "P8dIXZPKaENktAckPBcq1YcQx0oZsCqiHb8aAAABSUGbYEnhDyZTAhX//jhACCzmYqANrhkivuFx\n",
       "NthbVjDROWw6unecdN3ltUA3uWnJ1WrQqelrSK3HFdMOHg2DS9/Cl8vd+Mq+9G6vMUCpLjDdvklq\n",
       "F8Z1lM8EFE2Fxc8lbYsFHPkevE63R3A+L7iXfkywmi80TZNmHCgfZPMNBamqHsumjQRVd6hP77lM\n",
       "0yRlassb/y2427+S79y48D4jG2Bdmy2I+H53ZuLa1055mxUTZ7qho+JAnqn5lxSqpyWbQHEDTEjA\n",
       "+HD9NedN53fzRfvepGgGffBl+LooMsIOROVrJs6fGVxWUXz86WEnNRyZcAhpF44Ozvz1C0kBNXsA\n",
       "gA8poNShpaMbb/jSBQLxJ92bhsuyXdGGrNlymxqf53ZuOpOP+6pLl66ZxKxEC1tHAw1LEuvS/Zlo\n",
       "j43OBITEN2lqZT3qZVoc/ggLAAABP0GbgUnhDyZTAhX//jhAD8ehjANXuPD1sbuVDn3n9oZyxy2M\n",
       "Jl4p4IbIJgNy/TxKCri4hnm9Kf4Io5ZEmHuGfo6577jvj7HLOsQg7uweAbyZBO+qyr//n3I8vGw9\n",
       "RHVoWvqT+LME26CVWZH5rXLTu3jcZZeuHO61fv7AWvKlqnv7jYUgIh5tdjNp8Q3GI859XpGvmhmd\n",
       "ChmQwuhfaFE5po0y+r8yoDkVvGakuDcXi2yGtpJGza70/JyhoPiJxqLGTtmEdM2cO+RKb2M1VfdB\n",
       "deoC0teMdzGRp+bsOR47WY7sMiomVHSGF4sUiBXL5TAE4rme+/5a+hWbSf/3OzYjOETFFQvSfvj+\n",
       "H0sLOiIdkmLIe3tf1gFg7Wv/8efg/WcuOvRl6sNKLCOe90TiZsk4jQgCghZvIIzF9sTd6B3F64AA\n",
       "AAEuQZuiSeEPJlMCFf/+OEAPx31ADCWl+PT06qWkMtU1OtI8x20SSPev945jTDtUQT7tjEt95eLP\n",
       "CQr24bO3RLeF+6Ikz+QBm32ZLdKEQwXqwlhZaY5CYWDz0rpToNdsQeaa2Ki+R2UnWbb/MutfnfG8\n",
       "Q8ut9iQXhxvioSqJZwzCCZOJ4RYc0PjrmBxA0OhJZlgFrSaktZlK6xJutb+RH+wI7qigOfQnZasc\n",
       "cwGdLd2kGzPDjzZqCGW2QQVAS2EC6iC4+RyLIEKxn/WLwW8wUVD1w8x38svfuecNsfb3jPfpZITy\n",
       "SD9vl+XzkroZvd9WCVLF7UuGMM2x7c5BOKQtmVwMaMIw27qj5VesCSrZlxIPn82ITOjEnE/LFEDQ\n",
       "/3qCJCZ3LCG3I8MfQkTEZo+9vGkAAAEmQZvDSeEPJlMCFf/+OEAPb8fAAbG+gT72n4AoXh0W4jkE\n",
       "LlxOASpocnmkSf2Gbu50tsRpU4zdSTX5i4prOj4xgLbZIpofwQp0A9rxEIV6pr12K6iS+skgOEnu\n",
       "Kc3Tnql2qKamtThy+KgPTbxyi/q2zgK0gl6rhVW4Lol9eybHwhyHmeMYUB5C6TxP1XPdLLeTZTSC\n",
       "IaB8AIMURNnDlE9ygBYbphNewSQArgJGD3KfyJQGdD/ekczyL0G08QH/sZD1P87texBbxjibVH72\n",
       "UXDbSeN5wPg8uFnRhZCpQAexZKscKDYXWzjZChhQWcSa8BRwgZqSeb5KUXz6/nO6fHU/kGmPdN86\n",
       "dIz9hRnNLAWnu3k8gvtMlnAjiFBufe2cwU10xJKjKv+2AAABN0Gb5EnhDyZTAhf//oywAiA/2wCR\n",
       "4UNKAWdAwBPGL7AMxR1TmFpaWODjwxE5dVi11i1piV+lJKg8SDElKvQ8SvRIBO05DjfkHk3djawj\n",
       "1n9Vw8UnaM4CrDG8a+KSHk2kX46LiTiZQ7WeCSzMkNN9vbv0ToMk2U1KIO/Ec6i0uDAak0cTyQxl\n",
       "n8LXnsioe1qB1FI7d6qScVAOvfsPPXnGCctnKndQjluQFivXXsn2c6wDvdhH1VriNV1805fR9Vzw\n",
       "tlRYpQdWjksAM4yHJrvABm4iQQGNsmgQ4EEWPFt3eG7O4X88JbtU/J0zKuqt6yvv/Gs5Pb2sS8OL\n",
       "W9ddaZMhoiziR7dXVR3yx7HegAyVSMIiEsB2hVYVDD7EarwwcRwZH7HL9N1HWJ9tC2Gfto93UZmC\n",
       "AZV1izmBAAABwEGaBknhDyZTBRE8L//+jLAEIn0zYBDo0TuNQACBCC/3VB1HehcLS7wZEpG1dkJ/\n",
       "XXTrUEEZEHpceIyYCkc658Stn1ZRMam4DqMwzvtlopsfEi+SZjMk0GvkxoFXFxqyvxe9iYkyG9ie\n",
       "YVww20BDfofQQg4AQhEMdUh7MJjNViBrUVh86QqGElre9/QwM+eUisVAq9f3A56HdKiIdkp7qY2E\n",
       "7/xvr6hD4ezbcQddy+asoeVvT6rVnYBLTIk8Uf5DBNIwKx/MzrIpi/i3y1our/GsK9s6io/A4bSG\n",
       "m3kvtoy2JED/tRNI32f40KZPNaAjhsCkihrREnp8ZcL5892ynVtgiXKDGzvO0dZJkaA1RcspKxG0\n",
       "bhz9v4Kv0D7Oq/F+XQ31Nyblrp4hY9gqXtOZorQaTnX6fEfuStio4FVFtx0AWv2nQEB3FDA86euL\n",
       "tnykb7VTvgRrve2qfmSBrCgF3IEzgAjFhUsgAjx4Y3k4UPM5JX901t48gXjuzpLXJzpdTuBIQFO1\n",
       "cLWUpcr1bqsXB21OqOctr0bmTEzexdUBZ1ry36wpt28c7MkdLWa3zp69AJo4aQxORfuNd+gcjQaq\n",
       "lcEAAAASAZ4lakf/Ahsjyh7H1kn3qk2RAAABE0GaKEnhDyZTBTwv//6MsAIgPcgAtaRpfasnqFmB\n",
       "fQN1C5K3zBIzkvXiUWUgQdiHYTaG7HQTZh4RmmFKb1YaOjlItShhbagkgnDcAGM0mqE8NVYAt4og\n",
       "U5sBpT3mJ9NEdxKLr2h/2SeVHfy9ETpZv5rjYWJisOmzEuljXaHTHAF+x00rOvM/bYFCiUdc28T8\n",
       "AdiaUXFJdexIAkdPEDS8NapjUQ48y7VpNxPI7reoJYdsm6cNcs5YdpDxMzIwUPqubUEgWc5Ofsok\n",
       "K4RSEJByEvRdKuLoRX6wYm1CtlLw9MM5feuHqIMulRtza3K2em5Lag58mQFR5eso1WkcD7+pSv/h\n",
       "4AaneY9UbfaPXNi2LOsgNrmBAAAADwGeR2pH/wABkftMS9zVgAAAAaNBmktJ4Q8mUwIZ//6eEAQQ\n",
       "jUkAK1/WJJAnEeWGXtPS/8KP8yl9uVSeywA2iuEBzs4S8JG9pEbgFIUp185mtf2gI5ABqKfBIzKc\n",
       "pDFbjII9hiuf9L2lUVNCkwr+TVTiVP+7l8OQ+JH3iZAem3La9f38feEVFEN0ZYmscMcGU4Ty2Mtm\n",
       "b7nLTnr5QB15+EPG7JIyIMiLyHVbIxNQhg9A1kGzdFR+lpBzag9jHdP0tt2wUw+jlTUq5bo+ktqM\n",
       "e/40q5Uk32m3yAEyaXk1oAFV32x2awPNseiPayYpZOzsXyQSIbYcdaC+IXddRRVWJuXl9FZznarn\n",
       "SK7Y5+EIOiYRTGBDZeVxT1ZU2G8D5gaT7MNp95yEXkj3G8b5rD3QPnblZw5Yd/Q5tdJ1SlZrq8Qf\n",
       "s4a/+cPSfkiYVKoeovjVAUT6f65iOH7OhwRnmVCpvJIBstSzXQvLLnd/llLidSuHD0LEJVDVcjPw\n",
       "p5lGEugSMVasSs6VQMppRYI+AcQ0zMl/AqZ6AtAaBJNTjT9EBxD4D1BBEi+2wXZObO7z1hAVYS5Y\n",
       "yyv5gAAAABhBnmlFETwj/wFZVd2LaHlyRPcNLv2lWMEAAAAPAZ6Kakf/AEePkD74AiPAAAABokGa\n",
       "j0moQWiZTAhn//6eEAQPb9lRWAIs4/qRHq/7gB+o3M/aWh333bQWEjmwxBT4URqqC8CRC4n3UyrC\n",
       "m6A+n4KKlP566li9Vp5aaiouSvJyCu2/dPXOTBYEwI4IjnqtB3wr0qXnvQvz2xYxCJXa5VhqCtDa\n",
       "jpF603F1M7j/MHdou2D2hoA3hdONWXRHJAmTuSbhiIaE35NKV8F3EjcWYGxuPWxJeicL4lfantT3\n",
       "dRi3OfmLyRAzOGqA9+fiGIqfcUagRKXDzuR3KG89WtsUx8CMvSwiH305YscVWto1TI/lqWiSg2AM\n",
       "xgGv9ggwYAY0HyMb0HZVGPoEAzt7/Io7dlyopZmBB51IEBUiQ6pSd8H2Jwpa+hfZ43ksUMbFlITy\n",
       "fyS8t3p62x+IEtU55ryzjpcAN8CBqLokatTD6Qx1AxU1Y19EmslNsHEWYoWXZgvEE7fp8RxFTewy\n",
       "1al9h5XHWSSshHB2+mSFebIhsoBRjKngHS/MS4qKT+MQIS2uSzmoXAQSVsIzqiZmWd1JAv7Io5k8\n",
       "wEAgunV/ldv6hsTdb3Z7UOAAAAAaQZ6tRREsI/8AL8WdvK2ovMPfGthfQG63hcEAAAARAZ7MdEf/\n",
       "AI6xAdLu995EbSUAAAAMAZ7Oakf/AAGSk+JDAAAA5kGa00moQWyZTAhf//6MsAQAjWcAJ5N+OGPS\n",
       "Qb82PbBgpB0PPLhIsWPHjB7a36d/j+lNVHd+VN3gHy6mpnztXOaVz0EZmG5DYYS0nya3ZBZo0Wcd\n",
       "12wJ4FpONy6EzEWCXX0Ubcp+qfcZSv/hOtekbBsq2Zx/P1u+LgabDmci80qbEqxWeWat0ZVfa7Da\n",
       "F9ZJh2okkVYeeE8ie5mfEPcX60QFSlaEt8aL7KLWwYD5V6gaC3HzFQ3wgrWS8nwrdJHXtF1ON7QM\n",
       "dCVxCPMX8o+Ykpb1HaiK5bulOpH3lxpQc4bxd0AuXPxQAAAAFkGe8UUVLCP/AC2BQBuBKOj+M9z7\n",
       "xkAAAAAMAZ8QdEf/AAGRwqPxAAAADAGfEmpH/wABkpPiQwAAAGlBmxdJqEFsmUwIX//+jLACEFcp\n",
       "oAhPTjst9Sd0Conzky4QfXhpxLztxW0P1THxGylhP6u7UF+gyKg9fehgoGSaPvoL0O33qSk1ox9p\n",
       "6FxsSrqBXItNJy5Ww0ETKXfdGhe9G3tJIKKbBOAAAAAZQZ81RRUsI/8ArKsJLrJHvIyOnp2x+eT7\n",
       "CQAAAA4Bn1R0R/8AR1iA+3cYiwAAAA8Bn1ZqR/8AR348umFsRYEAAABvQZtbSahBbJlMCF///oyw\n",
       "AiKn1EAFl4+vvw4ZY7TrmH2lG1AgzYUL/n7CSVQUU90iBq22+4d4tTxMniMEPqOQvFVkuQjYYxH/\n",
       "VvkfmXQKiC3PxU/EqRQLcbqqfgGJQngwAu82p16/BvnWz+xMeZ1xAAAAGEGfeUUVLCP/ALErBy6o\n",
       "VF5gXBcCUXszegAAAA4Bn5h0R/8AR1iA+3cYiwAAAA8Bn5pqR/8AR348umFsRYAAAABOQZufSahB\n",
       "bJlMCFf//jhAB+wX+AAs5HE+QokRsCXkinsPDG+q3exoB/oUux+Xdh5WSC5GV3LsZwVgS6O59noT\n",
       "61cEdX+q+QHvE/UczcmBAAAAE0GfvUUVLCP/AC2BQBuBKFcaXnUAAAAOAZ/cdEf/AEdYgPt3GIsA\n",
       "AAAPAZ/eakf/AEd+PLphbEWAAAAAEkGbw0moQWyZTAj//IQAAAMBswAAABNBn+FFFSwj/wAtgUAb\n",
       "gShXGl50AAAADgGeAHRH/wBHWID7dxiLAAAADwGeAmpH/wBHfjy6YWxFgAAABxZtb292AAAAbG12\n",
       "aGQAAAAAAAAAAAAAAAAAAAPoAAAH0AABAAABAAAAAAAAAAAAAAAAAQAAAAAAAAAAAAAAAAAAAAEA\n",
       "AAAAAAAAAAAAAAAAAEAAAAAAAAAAAAAAAAAAAAAAAAAAAAAAAAAAAAAAAAACAAAGQHRyYWsAAABc\n",
       "dGtoZAAAAAMAAAAAAAAAAAAAAAEAAAAAAAAH0AAAAAAAAAAAAAAAAAAAAAAAAQAAAAAAAAAAAAAA\n",
       "AAAAAAEAAAAAAAAAAAAAAAAAAEAAAAABsAAAASAAAAAAACRlZHRzAAAAHGVsc3QAAAAAAAAAAQAA\n",
       "B9AAAAIAAAEAAAAABbhtZGlhAAAAIG1kaGQAAAAAAAAAAAAAAAAAADIAAABkAFXEAAAAAAAtaGRs\n",
       "cgAAAAAAAAAAdmlkZQAAAAAAAAAAAAAAAFZpZGVvSGFuZGxlcgAAAAVjbWluZgAAABR2bWhkAAAA\n",
       "AQAAAAAAAAAAAAAAJGRpbmYAAAAcZHJlZgAAAAAAAAABAAAADHVybCAAAAABAAAFI3N0YmwAAACz\n",
       "c3RzZAAAAAAAAAABAAAAo2F2YzEAAAAAAAAAAQAAAAAAAAAAAAAAAAAAAAABsAEgAEgAAABIAAAA\n",
       "AAAAAAEAAAAAAAAAAAAAAAAAAAAAAAAAAAAAAAAAAAAAAAAAAAAY//8AAAAxYXZjQwFkAB7/4QAY\n",
       "Z2QAHqzZQbCWhAAAAwAEAAADAZA8WLZYAQAGaOvjyyLAAAAAHHV1aWRraEDyXyRPxbo5pRvPAyPz\n",
       "AAAAAAAAABhzdHRzAAAAAAAAAAEAAABkAAABAAAAABRzdHNzAAAAAAAAAAEAAAABAAACaGN0dHMA\n",
       "AAAAAAAASwAAAAYAAAIAAAAAAQAAAwAAAAABAAABAAAAAAIAAAIAAAAAAQAAAwAAAAABAAABAAAA\n",
       "AAEAAAQAAAAAAgAAAQAAAAABAAADAAAAAAEAAAEAAAAAAQAAAwAAAAABAAABAAAAAAEAAAUAAAAA\n",
       "AQAAAgAAAAABAAAAAAAAAAEAAAEAAAAAAQAAAwAAAAABAAABAAAAAAEAAAQAAAAAAgAAAQAAAAAB\n",
       "AAAEAAAAAAIAAAEAAAAAAQAABQAAAAABAAACAAAAAAEAAAAAAAAAAQAAAQAAAAABAAAFAAAAAAEA\n",
       "AAIAAAAAAQAAAAAAAAABAAABAAAAAAEAAAUAAAAAAQAAAgAAAAABAAAAAAAAAAEAAAEAAAAAAQAA\n",
       "BAAAAAACAAABAAAAAAEAAAUAAAAAAQAAAgAAAAABAAAAAAAAAAEAAAEAAAAAAQAABQAAAAABAAAC\n",
       "AAAAAAEAAAAAAAAAAQAAAQAAAAAPAAACAAAAAAEAAAMAAAAAAQAAAQAAAAABAAADAAAAAAEAAAEA\n",
       "AAAAAQAABAAAAAACAAABAAAAAAEAAAUAAAAAAQAAAgAAAAABAAAAAAAAAAEAAAEAAAAAAQAABQAA\n",
       "AAABAAACAAAAAAEAAAAAAAAAAQAAAQAAAAABAAAFAAAAAAEAAAIAAAAAAQAAAAAAAAABAAABAAAA\n",
       "AAEAAAUAAAAAAQAAAgAAAAABAAAAAAAAAAEAAAEAAAAAAQAABQAAAAABAAACAAAAAAEAAAAAAAAA\n",
       "AQAAAQAAAAABAAAFAAAAAAEAAAIAAAAAAQAAAAAAAAABAAABAAAAABxzdHNjAAAAAAAAAAEAAAAB\n",
       "AAAAZAAAAAEAAAGkc3RzegAAAAAAAAAAAAAAZAAAHFwAAAMNAAACbwAAAcMAAAHuAAACQgAAAuQA\n",
       "AAD7AAACSgAAAmYAAAMsAAAA1QAAA9wAAAEeAAAAzgAAA1EAAADnAAADqAAAANMAAATqAAABfgAA\n",
       "AMcAAADFAAADswAAALYAAAUAAAAA8QAAAIMAAAT/AAAA8gAAAIwAAAXdAAABQQAAAIkAAACMAAAF\n",
       "jwAAAVoAAAB0AAAAbgAABUkAAADmAAAAdQAAAGcAAASaAAAAlwAAACQAAASzAAAA8gAAAB8AAAAf\n",
       "AAAEQgAAAJAAAAAbAAAAHgAAAiwAAAH/AAACCwAAAesAAAGuAAAB2wAAAcsAAAG5AAABgAAAAXEA\n",
       "AAFNAAABQwAAATIAAAEqAAABOwAAAcQAAAAWAAABFwAAABMAAAGnAAAAHAAAABMAAAGmAAAAHgAA\n",
       "ABUAAAAQAAAA6gAAABoAAAAQAAAAEAAAAG0AAAAdAAAAEgAAABMAAABzAAAAHAAAABIAAAATAAAA\n",
       "UgAAABcAAAASAAAAEwAAABYAAAAXAAAAEgAAABMAAAAUc3RjbwAAAAAAAAABAAAALAAAAGJ1ZHRh\n",
       "AAAAWm1ldGEAAAAAAAAAIWhkbHIAAAAAAAAAAG1kaXJhcHBsAAAAAAAAAAAAAAAALWlsc3QAAAAl\n",
       "qXRvbwAAAB1kYXRhAAAAAQAAAABMYXZmNTcuNTYuMTAx\n",
       "\">\n",
       "  Your browser does not support the video tag.\n",
       "</video>"
      ],
      "text/plain": [
       "<matplotlib.animation.FuncAnimation at 0x7fac3b054048>"
      ]
     },
     "execution_count": 36,
     "metadata": {},
     "output_type": "execute_result"
    }
   ],
   "source": [
    "a = nn.Parameter(tensor(-1.,1))\n",
    "\n",
    "fig = plt.figure()\n",
    "plt.scatter(x[:,0], y, c='orange')\n",
    "line, = plt.plot(x[:,0], x@a)\n",
    "plt.close()\n",
    "\n",
    "def animate(i):\n",
    "    update()\n",
    "    line.set_ydata(x@a)\n",
    "    return line,\n",
    "\n",
    "animation.FuncAnimation(fig, animate, np.arange(0, 100), interval=20)"
   ]
  },
  {
   "cell_type": "code",
   "execution_count": null,
   "metadata": {},
   "outputs": [],
   "source": []
  }
 ],
 "metadata": {
  "kernelspec": {
   "display_name": "Python 3",
   "language": "python",
   "name": "python3"
  },
  "language_info": {
   "codemirror_mode": {
    "name": "ipython",
    "version": 3
   },
   "file_extension": ".py",
   "mimetype": "text/x-python",
   "name": "python",
   "nbconvert_exporter": "python",
   "pygments_lexer": "ipython3",
   "version": "3.7.1"
  }
 },
 "nbformat": 4,
 "nbformat_minor": 2
}
